{
 "cells": [
  {
   "cell_type": "code",
   "execution_count": 36,
   "metadata": {
    "execution": {
     "iopub.execute_input": "2022-01-24T01:24:20.583222Z",
     "iopub.status.busy": "2022-01-24T01:24:20.582603Z",
     "iopub.status.idle": "2022-01-24T01:24:20.593611Z",
     "shell.execute_reply": "2022-01-24T01:24:20.592759Z",
     "shell.execute_reply.started": "2022-01-24T01:24:20.583186Z"
    }
   },
   "outputs": [],
   "source": [
    "import pandas as pd\n",
    "import numpy as np\n",
    "import matplotlib.pyplot as plt\n",
    "from sklearn.metrics import classification_report\n",
    "%matplotlib inline\n",
    "\n",
    "import seaborn as sns"
   ]
  },
  {
   "cell_type": "code",
   "execution_count": 2,
   "metadata": {
    "execution": {
     "iopub.execute_input": "2022-01-24T01:24:20.59574Z",
     "iopub.status.busy": "2022-01-24T01:24:20.595024Z",
     "iopub.status.idle": "2022-01-24T01:24:20.606891Z",
     "shell.execute_reply": "2022-01-24T01:24:20.606108Z",
     "shell.execute_reply.started": "2022-01-24T01:24:20.595704Z"
    }
   },
   "outputs": [
    {
     "data": {
      "text/plain": [
       "'2.12.0'"
      ]
     },
     "execution_count": 2,
     "metadata": {},
     "output_type": "execute_result"
    }
   ],
   "source": [
    "import tensorflow as tf\n",
    "tf.__version__"
   ]
  },
  {
   "cell_type": "markdown",
   "metadata": {},
   "source": [
    "Dataset"
   ]
  },
  {
   "cell_type": "code",
   "execution_count": 5,
   "metadata": {
    "execution": {
     "iopub.execute_input": "2022-01-24T01:24:20.608542Z",
     "iopub.status.busy": "2022-01-24T01:24:20.608003Z",
     "iopub.status.idle": "2022-01-24T01:24:20.639026Z",
     "shell.execute_reply": "2022-01-24T01:24:20.638188Z",
     "shell.execute_reply.started": "2022-01-24T01:24:20.608507Z"
    }
   },
   "outputs": [
    {
     "name": "stdout",
     "output_type": "stream",
     "text": [
      "<class 'pandas.core.frame.DataFrame'>\n",
      "RangeIndex: 891 entries, 0 to 890\n",
      "Data columns (total 12 columns):\n",
      " #   Column       Non-Null Count  Dtype  \n",
      "---  ------       --------------  -----  \n",
      " 0   PassengerId  891 non-null    int64  \n",
      " 1   Survived     891 non-null    int64  \n",
      " 2   Pclass       891 non-null    int64  \n",
      " 3   Name         891 non-null    object \n",
      " 4   Sex          891 non-null    object \n",
      " 5   Age          714 non-null    float64\n",
      " 6   SibSp        891 non-null    int64  \n",
      " 7   Parch        891 non-null    int64  \n",
      " 8   Ticket       891 non-null    object \n",
      " 9   Fare         891 non-null    float64\n",
      " 10  Cabin        204 non-null    object \n",
      " 11  Embarked     889 non-null    object \n",
      "dtypes: float64(2), int64(5), object(5)\n",
      "memory usage: 83.7+ KB\n"
     ]
    }
   ],
   "source": [
    "train_csv_path: str = 'train.csv'\n",
    "\n",
    "data: pd.DataFrame = pd.read_csv(train_csv_path)\n",
    "data.info()"
   ]
  },
  {
   "cell_type": "markdown",
   "metadata": {},
   "source": [
    "Watch the data style"
   ]
  },
  {
   "cell_type": "code",
   "execution_count": 6,
   "metadata": {
    "execution": {
     "iopub.execute_input": "2022-01-24T01:24:20.640786Z",
     "iopub.status.busy": "2022-01-24T01:24:20.640402Z",
     "iopub.status.idle": "2022-01-24T01:24:20.658934Z",
     "shell.execute_reply": "2022-01-24T01:24:20.658303Z",
     "shell.execute_reply.started": "2022-01-24T01:24:20.640739Z"
    }
   },
   "outputs": [
    {
     "data": {
      "text/html": [
       "<div>\n",
       "<style scoped>\n",
       "    .dataframe tbody tr th:only-of-type {\n",
       "        vertical-align: middle;\n",
       "    }\n",
       "\n",
       "    .dataframe tbody tr th {\n",
       "        vertical-align: top;\n",
       "    }\n",
       "\n",
       "    .dataframe thead th {\n",
       "        text-align: right;\n",
       "    }\n",
       "</style>\n",
       "<table border=\"1\" class=\"dataframe\">\n",
       "  <thead>\n",
       "    <tr style=\"text-align: right;\">\n",
       "      <th></th>\n",
       "      <th>PassengerId</th>\n",
       "      <th>Survived</th>\n",
       "      <th>Pclass</th>\n",
       "      <th>Name</th>\n",
       "      <th>Sex</th>\n",
       "      <th>Age</th>\n",
       "      <th>SibSp</th>\n",
       "      <th>Parch</th>\n",
       "      <th>Ticket</th>\n",
       "      <th>Fare</th>\n",
       "      <th>Cabin</th>\n",
       "      <th>Embarked</th>\n",
       "    </tr>\n",
       "  </thead>\n",
       "  <tbody>\n",
       "    <tr>\n",
       "      <th>0</th>\n",
       "      <td>1</td>\n",
       "      <td>0</td>\n",
       "      <td>3</td>\n",
       "      <td>Braund, Mr. Owen Harris</td>\n",
       "      <td>male</td>\n",
       "      <td>22.0</td>\n",
       "      <td>1</td>\n",
       "      <td>0</td>\n",
       "      <td>A/5 21171</td>\n",
       "      <td>7.2500</td>\n",
       "      <td>NaN</td>\n",
       "      <td>S</td>\n",
       "    </tr>\n",
       "    <tr>\n",
       "      <th>1</th>\n",
       "      <td>2</td>\n",
       "      <td>1</td>\n",
       "      <td>1</td>\n",
       "      <td>Cumings, Mrs. John Bradley (Florence Briggs Th...</td>\n",
       "      <td>female</td>\n",
       "      <td>38.0</td>\n",
       "      <td>1</td>\n",
       "      <td>0</td>\n",
       "      <td>PC 17599</td>\n",
       "      <td>71.2833</td>\n",
       "      <td>C85</td>\n",
       "      <td>C</td>\n",
       "    </tr>\n",
       "    <tr>\n",
       "      <th>2</th>\n",
       "      <td>3</td>\n",
       "      <td>1</td>\n",
       "      <td>3</td>\n",
       "      <td>Heikkinen, Miss. Laina</td>\n",
       "      <td>female</td>\n",
       "      <td>26.0</td>\n",
       "      <td>0</td>\n",
       "      <td>0</td>\n",
       "      <td>STON/O2. 3101282</td>\n",
       "      <td>7.9250</td>\n",
       "      <td>NaN</td>\n",
       "      <td>S</td>\n",
       "    </tr>\n",
       "    <tr>\n",
       "      <th>3</th>\n",
       "      <td>4</td>\n",
       "      <td>1</td>\n",
       "      <td>1</td>\n",
       "      <td>Futrelle, Mrs. Jacques Heath (Lily May Peel)</td>\n",
       "      <td>female</td>\n",
       "      <td>35.0</td>\n",
       "      <td>1</td>\n",
       "      <td>0</td>\n",
       "      <td>113803</td>\n",
       "      <td>53.1000</td>\n",
       "      <td>C123</td>\n",
       "      <td>S</td>\n",
       "    </tr>\n",
       "    <tr>\n",
       "      <th>4</th>\n",
       "      <td>5</td>\n",
       "      <td>0</td>\n",
       "      <td>3</td>\n",
       "      <td>Allen, Mr. William Henry</td>\n",
       "      <td>male</td>\n",
       "      <td>35.0</td>\n",
       "      <td>0</td>\n",
       "      <td>0</td>\n",
       "      <td>373450</td>\n",
       "      <td>8.0500</td>\n",
       "      <td>NaN</td>\n",
       "      <td>S</td>\n",
       "    </tr>\n",
       "  </tbody>\n",
       "</table>\n",
       "</div>"
      ],
      "text/plain": [
       "   PassengerId  Survived  Pclass  \\\n",
       "0            1         0       3   \n",
       "1            2         1       1   \n",
       "2            3         1       3   \n",
       "3            4         1       1   \n",
       "4            5         0       3   \n",
       "\n",
       "                                                Name     Sex   Age  SibSp  \\\n",
       "0                            Braund, Mr. Owen Harris    male  22.0      1   \n",
       "1  Cumings, Mrs. John Bradley (Florence Briggs Th...  female  38.0      1   \n",
       "2                             Heikkinen, Miss. Laina  female  26.0      0   \n",
       "3       Futrelle, Mrs. Jacques Heath (Lily May Peel)  female  35.0      1   \n",
       "4                           Allen, Mr. William Henry    male  35.0      0   \n",
       "\n",
       "   Parch            Ticket     Fare Cabin Embarked  \n",
       "0      0         A/5 21171   7.2500   NaN        S  \n",
       "1      0          PC 17599  71.2833   C85        C  \n",
       "2      0  STON/O2. 3101282   7.9250   NaN        S  \n",
       "3      0            113803  53.1000  C123        S  \n",
       "4      0            373450   8.0500   NaN        S  "
      ]
     },
     "execution_count": 6,
     "metadata": {},
     "output_type": "execute_result"
    }
   ],
   "source": [
    "data.head()"
   ]
  },
  {
   "cell_type": "markdown",
   "metadata": {},
   "source": [
    "Remove any columns that aren't needed from the dataset."
   ]
  },
  {
   "cell_type": "code",
   "execution_count": 7,
   "metadata": {
    "execution": {
     "iopub.execute_input": "2022-01-24T01:24:20.661039Z",
     "iopub.status.busy": "2022-01-24T01:24:20.660406Z",
     "iopub.status.idle": "2022-01-24T01:24:20.67676Z",
     "shell.execute_reply": "2022-01-24T01:24:20.675948Z",
     "shell.execute_reply.started": "2022-01-24T01:24:20.661003Z"
    }
   },
   "outputs": [
    {
     "data": {
      "text/html": [
       "<div>\n",
       "<style scoped>\n",
       "    .dataframe tbody tr th:only-of-type {\n",
       "        vertical-align: middle;\n",
       "    }\n",
       "\n",
       "    .dataframe tbody tr th {\n",
       "        vertical-align: top;\n",
       "    }\n",
       "\n",
       "    .dataframe thead th {\n",
       "        text-align: right;\n",
       "    }\n",
       "</style>\n",
       "<table border=\"1\" class=\"dataframe\">\n",
       "  <thead>\n",
       "    <tr style=\"text-align: right;\">\n",
       "      <th></th>\n",
       "      <th>Survived</th>\n",
       "      <th>Pclass</th>\n",
       "      <th>Sex</th>\n",
       "      <th>Age</th>\n",
       "      <th>SibSp</th>\n",
       "      <th>Fare</th>\n",
       "      <th>Embarked</th>\n",
       "    </tr>\n",
       "  </thead>\n",
       "  <tbody>\n",
       "    <tr>\n",
       "      <th>0</th>\n",
       "      <td>0</td>\n",
       "      <td>3</td>\n",
       "      <td>male</td>\n",
       "      <td>22.0</td>\n",
       "      <td>1</td>\n",
       "      <td>7.2500</td>\n",
       "      <td>S</td>\n",
       "    </tr>\n",
       "    <tr>\n",
       "      <th>1</th>\n",
       "      <td>1</td>\n",
       "      <td>1</td>\n",
       "      <td>female</td>\n",
       "      <td>38.0</td>\n",
       "      <td>1</td>\n",
       "      <td>71.2833</td>\n",
       "      <td>C</td>\n",
       "    </tr>\n",
       "    <tr>\n",
       "      <th>2</th>\n",
       "      <td>1</td>\n",
       "      <td>3</td>\n",
       "      <td>female</td>\n",
       "      <td>26.0</td>\n",
       "      <td>0</td>\n",
       "      <td>7.9250</td>\n",
       "      <td>S</td>\n",
       "    </tr>\n",
       "    <tr>\n",
       "      <th>3</th>\n",
       "      <td>1</td>\n",
       "      <td>1</td>\n",
       "      <td>female</td>\n",
       "      <td>35.0</td>\n",
       "      <td>1</td>\n",
       "      <td>53.1000</td>\n",
       "      <td>S</td>\n",
       "    </tr>\n",
       "    <tr>\n",
       "      <th>4</th>\n",
       "      <td>0</td>\n",
       "      <td>3</td>\n",
       "      <td>male</td>\n",
       "      <td>35.0</td>\n",
       "      <td>0</td>\n",
       "      <td>8.0500</td>\n",
       "      <td>S</td>\n",
       "    </tr>\n",
       "  </tbody>\n",
       "</table>\n",
       "</div>"
      ],
      "text/plain": [
       "   Survived  Pclass     Sex   Age  SibSp     Fare Embarked\n",
       "0         0       3    male  22.0      1   7.2500        S\n",
       "1         1       1  female  38.0      1  71.2833        C\n",
       "2         1       3  female  26.0      0   7.9250        S\n",
       "3         1       1  female  35.0      1  53.1000        S\n",
       "4         0       3    male  35.0      0   8.0500        S"
      ]
     },
     "execution_count": 7,
     "metadata": {},
     "output_type": "execute_result"
    }
   ],
   "source": [
    "data = data.drop(['PassengerId','Name','Ticket','Cabin','Parch'],axis=1)\n",
    "data.head()"
   ]
  },
  {
   "cell_type": "markdown",
   "metadata": {},
   "source": [
    "Checking null values"
   ]
  },
  {
   "cell_type": "code",
   "execution_count": 8,
   "metadata": {
    "execution": {
     "iopub.execute_input": "2022-01-24T01:24:20.678775Z",
     "iopub.status.busy": "2022-01-24T01:24:20.678291Z",
     "iopub.status.idle": "2022-01-24T01:24:20.687158Z",
     "shell.execute_reply": "2022-01-24T01:24:20.686415Z",
     "shell.execute_reply.started": "2022-01-24T01:24:20.678732Z"
    }
   },
   "outputs": [
    {
     "data": {
      "text/plain": [
       "Survived      0\n",
       "Pclass        0\n",
       "Sex           0\n",
       "Age         177\n",
       "SibSp         0\n",
       "Fare          0\n",
       "Embarked      2\n",
       "dtype: int64"
      ]
     },
     "execution_count": 8,
     "metadata": {},
     "output_type": "execute_result"
    }
   ],
   "source": [
    "data.isnull().sum()"
   ]
  },
  {
   "cell_type": "code",
   "execution_count": 9,
   "metadata": {
    "execution": {
     "iopub.execute_input": "2022-01-24T01:24:20.68869Z",
     "iopub.status.busy": "2022-01-24T01:24:20.688315Z",
     "iopub.status.idle": "2022-01-24T01:24:20.702627Z",
     "shell.execute_reply": "2022-01-24T01:24:20.701958Z",
     "shell.execute_reply.started": "2022-01-24T01:24:20.68866Z"
    }
   },
   "outputs": [],
   "source": [
    "data.dropna(subset=['Embarked'], inplace=True)"
   ]
  },
  {
   "cell_type": "markdown",
   "metadata": {},
   "source": [
    "Filling null values"
   ]
  },
  {
   "cell_type": "code",
   "execution_count": 10,
   "metadata": {
    "execution": {
     "iopub.execute_input": "2022-01-24T01:24:20.704556Z",
     "iopub.status.busy": "2022-01-24T01:24:20.704084Z",
     "iopub.status.idle": "2022-01-24T01:24:20.714803Z",
     "shell.execute_reply": "2022-01-24T01:24:20.713851Z",
     "shell.execute_reply.started": "2022-01-24T01:24:20.704513Z"
    }
   },
   "outputs": [],
   "source": [
    "data['Age'].fillna(data['Age'].mean(),inplace = True)"
   ]
  },
  {
   "cell_type": "code",
   "execution_count": 11,
   "metadata": {
    "execution": {
     "iopub.execute_input": "2022-01-24T01:24:20.716896Z",
     "iopub.status.busy": "2022-01-24T01:24:20.716163Z",
     "iopub.status.idle": "2022-01-24T01:24:20.732126Z",
     "shell.execute_reply": "2022-01-24T01:24:20.731132Z",
     "shell.execute_reply.started": "2022-01-24T01:24:20.716835Z"
    }
   },
   "outputs": [
    {
     "data": {
      "text/plain": [
       "Survived    0\n",
       "Pclass      0\n",
       "Sex         0\n",
       "Age         0\n",
       "SibSp       0\n",
       "Fare        0\n",
       "Embarked    0\n",
       "dtype: int64"
      ]
     },
     "execution_count": 11,
     "metadata": {},
     "output_type": "execute_result"
    }
   ],
   "source": [
    "data.isnull().sum()"
   ]
  },
  {
   "cell_type": "code",
   "execution_count": 12,
   "metadata": {
    "execution": {
     "iopub.execute_input": "2022-01-24T01:24:20.73443Z",
     "iopub.status.busy": "2022-01-24T01:24:20.733644Z",
     "iopub.status.idle": "2022-01-24T01:24:20.752412Z",
     "shell.execute_reply": "2022-01-24T01:24:20.751559Z",
     "shell.execute_reply.started": "2022-01-24T01:24:20.734397Z"
    }
   },
   "outputs": [
    {
     "data": {
      "text/html": [
       "<div>\n",
       "<style scoped>\n",
       "    .dataframe tbody tr th:only-of-type {\n",
       "        vertical-align: middle;\n",
       "    }\n",
       "\n",
       "    .dataframe tbody tr th {\n",
       "        vertical-align: top;\n",
       "    }\n",
       "\n",
       "    .dataframe thead th {\n",
       "        text-align: right;\n",
       "    }\n",
       "</style>\n",
       "<table border=\"1\" class=\"dataframe\">\n",
       "  <thead>\n",
       "    <tr style=\"text-align: right;\">\n",
       "      <th></th>\n",
       "      <th>Survived</th>\n",
       "      <th>Pclass</th>\n",
       "      <th>Age</th>\n",
       "      <th>SibSp</th>\n",
       "      <th>Fare</th>\n",
       "      <th>Embarked</th>\n",
       "      <th>Sex</th>\n",
       "    </tr>\n",
       "  </thead>\n",
       "  <tbody>\n",
       "    <tr>\n",
       "      <th>0</th>\n",
       "      <td>0</td>\n",
       "      <td>3</td>\n",
       "      <td>22.0</td>\n",
       "      <td>1</td>\n",
       "      <td>7.2500</td>\n",
       "      <td>S</td>\n",
       "      <td>1</td>\n",
       "    </tr>\n",
       "    <tr>\n",
       "      <th>1</th>\n",
       "      <td>1</td>\n",
       "      <td>1</td>\n",
       "      <td>38.0</td>\n",
       "      <td>1</td>\n",
       "      <td>71.2833</td>\n",
       "      <td>C</td>\n",
       "      <td>0</td>\n",
       "    </tr>\n",
       "    <tr>\n",
       "      <th>2</th>\n",
       "      <td>1</td>\n",
       "      <td>3</td>\n",
       "      <td>26.0</td>\n",
       "      <td>0</td>\n",
       "      <td>7.9250</td>\n",
       "      <td>S</td>\n",
       "      <td>0</td>\n",
       "    </tr>\n",
       "    <tr>\n",
       "      <th>3</th>\n",
       "      <td>1</td>\n",
       "      <td>1</td>\n",
       "      <td>35.0</td>\n",
       "      <td>1</td>\n",
       "      <td>53.1000</td>\n",
       "      <td>S</td>\n",
       "      <td>0</td>\n",
       "    </tr>\n",
       "    <tr>\n",
       "      <th>4</th>\n",
       "      <td>0</td>\n",
       "      <td>3</td>\n",
       "      <td>35.0</td>\n",
       "      <td>0</td>\n",
       "      <td>8.0500</td>\n",
       "      <td>S</td>\n",
       "      <td>1</td>\n",
       "    </tr>\n",
       "  </tbody>\n",
       "</table>\n",
       "</div>"
      ],
      "text/plain": [
       "   Survived  Pclass   Age  SibSp     Fare Embarked  Sex\n",
       "0         0       3  22.0      1   7.2500        S    1\n",
       "1         1       1  38.0      1  71.2833        C    0\n",
       "2         1       3  26.0      0   7.9250        S    0\n",
       "3         1       1  35.0      1  53.1000        S    0\n",
       "4         0       3  35.0      0   8.0500        S    1"
      ]
     },
     "execution_count": 12,
     "metadata": {},
     "output_type": "execute_result"
    }
   ],
   "source": [
    "sex_col = data['Sex'] == 'male'\n",
    "sex_col = sex_col.astype('int32')\n",
    "\n",
    "\n",
    "data = data.drop(['Sex'],axis=1)\n",
    "\n",
    "data['Sex'] = sex_col\n",
    "\n",
    "data.head()"
   ]
  },
  {
   "cell_type": "code",
   "execution_count": 13,
   "metadata": {
    "execution": {
     "iopub.execute_input": "2022-01-24T01:24:20.755972Z",
     "iopub.status.busy": "2022-01-24T01:24:20.75562Z",
     "iopub.status.idle": "2022-01-24T01:24:20.773493Z",
     "shell.execute_reply": "2022-01-24T01:24:20.772547Z",
     "shell.execute_reply.started": "2022-01-24T01:24:20.755929Z"
    }
   },
   "outputs": [
    {
     "data": {
      "text/html": [
       "<div>\n",
       "<style scoped>\n",
       "    .dataframe tbody tr th:only-of-type {\n",
       "        vertical-align: middle;\n",
       "    }\n",
       "\n",
       "    .dataframe tbody tr th {\n",
       "        vertical-align: top;\n",
       "    }\n",
       "\n",
       "    .dataframe thead th {\n",
       "        text-align: right;\n",
       "    }\n",
       "</style>\n",
       "<table border=\"1\" class=\"dataframe\">\n",
       "  <thead>\n",
       "    <tr style=\"text-align: right;\">\n",
       "      <th></th>\n",
       "      <th>Survived</th>\n",
       "      <th>Pclass</th>\n",
       "      <th>Age</th>\n",
       "      <th>SibSp</th>\n",
       "      <th>Fare</th>\n",
       "      <th>Sex</th>\n",
       "      <th>Embarked_C</th>\n",
       "      <th>Embarked_Q</th>\n",
       "      <th>Embarked_S</th>\n",
       "    </tr>\n",
       "  </thead>\n",
       "  <tbody>\n",
       "    <tr>\n",
       "      <th>0</th>\n",
       "      <td>0</td>\n",
       "      <td>3</td>\n",
       "      <td>22.0</td>\n",
       "      <td>1</td>\n",
       "      <td>7.2500</td>\n",
       "      <td>1</td>\n",
       "      <td>0</td>\n",
       "      <td>0</td>\n",
       "      <td>1</td>\n",
       "    </tr>\n",
       "    <tr>\n",
       "      <th>1</th>\n",
       "      <td>1</td>\n",
       "      <td>1</td>\n",
       "      <td>38.0</td>\n",
       "      <td>1</td>\n",
       "      <td>71.2833</td>\n",
       "      <td>0</td>\n",
       "      <td>1</td>\n",
       "      <td>0</td>\n",
       "      <td>0</td>\n",
       "    </tr>\n",
       "    <tr>\n",
       "      <th>2</th>\n",
       "      <td>1</td>\n",
       "      <td>3</td>\n",
       "      <td>26.0</td>\n",
       "      <td>0</td>\n",
       "      <td>7.9250</td>\n",
       "      <td>0</td>\n",
       "      <td>0</td>\n",
       "      <td>0</td>\n",
       "      <td>1</td>\n",
       "    </tr>\n",
       "    <tr>\n",
       "      <th>3</th>\n",
       "      <td>1</td>\n",
       "      <td>1</td>\n",
       "      <td>35.0</td>\n",
       "      <td>1</td>\n",
       "      <td>53.1000</td>\n",
       "      <td>0</td>\n",
       "      <td>0</td>\n",
       "      <td>0</td>\n",
       "      <td>1</td>\n",
       "    </tr>\n",
       "    <tr>\n",
       "      <th>4</th>\n",
       "      <td>0</td>\n",
       "      <td>3</td>\n",
       "      <td>35.0</td>\n",
       "      <td>0</td>\n",
       "      <td>8.0500</td>\n",
       "      <td>1</td>\n",
       "      <td>0</td>\n",
       "      <td>0</td>\n",
       "      <td>1</td>\n",
       "    </tr>\n",
       "  </tbody>\n",
       "</table>\n",
       "</div>"
      ],
      "text/plain": [
       "   Survived  Pclass   Age  SibSp     Fare  Sex  Embarked_C  Embarked_Q  \\\n",
       "0         0       3  22.0      1   7.2500    1           0           0   \n",
       "1         1       1  38.0      1  71.2833    0           1           0   \n",
       "2         1       3  26.0      0   7.9250    0           0           0   \n",
       "3         1       1  35.0      1  53.1000    0           0           0   \n",
       "4         0       3  35.0      0   8.0500    1           0           0   \n",
       "\n",
       "   Embarked_S  \n",
       "0           1  \n",
       "1           0  \n",
       "2           1  \n",
       "3           1  \n",
       "4           1  "
      ]
     },
     "execution_count": 13,
     "metadata": {},
     "output_type": "execute_result"
    }
   ],
   "source": [
    "data = pd.get_dummies(data, columns = ['Embarked'])\n",
    "data.head()"
   ]
  },
  {
   "cell_type": "markdown",
   "metadata": {},
   "source": [
    "Split Data"
   ]
  },
  {
   "cell_type": "code",
   "execution_count": 14,
   "metadata": {
    "execution": {
     "iopub.execute_input": "2022-01-24T01:24:20.774937Z",
     "iopub.status.busy": "2022-01-24T01:24:20.774613Z",
     "iopub.status.idle": "2022-01-24T01:24:20.78722Z",
     "shell.execute_reply": "2022-01-24T01:24:20.786364Z",
     "shell.execute_reply.started": "2022-01-24T01:24:20.774896Z"
    }
   },
   "outputs": [],
   "source": [
    "X = data.drop('Survived', axis=1).to_numpy()\n",
    "y = data['Survived'].to_numpy()"
   ]
  },
  {
   "cell_type": "code",
   "execution_count": 15,
   "metadata": {
    "execution": {
     "iopub.execute_input": "2022-01-24T01:24:20.788865Z",
     "iopub.status.busy": "2022-01-24T01:24:20.788242Z",
     "iopub.status.idle": "2022-01-24T01:24:20.799544Z",
     "shell.execute_reply": "2022-01-24T01:24:20.798887Z",
     "shell.execute_reply.started": "2022-01-24T01:24:20.788824Z"
    }
   },
   "outputs": [
    {
     "data": {
      "text/plain": [
       "((889, 8), (889,))"
      ]
     },
     "execution_count": 15,
     "metadata": {},
     "output_type": "execute_result"
    }
   ],
   "source": [
    "X.shape, y.shape"
   ]
  },
  {
   "cell_type": "markdown",
   "metadata": {},
   "source": [
    "Feature scaling"
   ]
  },
  {
   "cell_type": "code",
   "execution_count": 16,
   "metadata": {
    "execution": {
     "iopub.execute_input": "2022-01-24T01:24:20.801144Z",
     "iopub.status.busy": "2022-01-24T01:24:20.800722Z",
     "iopub.status.idle": "2022-01-24T01:24:20.811079Z",
     "shell.execute_reply": "2022-01-24T01:24:20.810382Z",
     "shell.execute_reply.started": "2022-01-24T01:24:20.801115Z"
    }
   },
   "outputs": [],
   "source": [
    "from sklearn.preprocessing import StandardScaler\n",
    "sc = StandardScaler()\n",
    "X = sc.fit_transform(X)"
   ]
  },
  {
   "cell_type": "markdown",
   "metadata": {},
   "source": [
    "Splitting traning set"
   ]
  },
  {
   "cell_type": "code",
   "execution_count": 17,
   "metadata": {
    "execution": {
     "iopub.execute_input": "2022-01-24T01:34:03.811424Z",
     "iopub.status.busy": "2022-01-24T01:34:03.81117Z",
     "iopub.status.idle": "2022-01-24T01:34:03.823852Z",
     "shell.execute_reply": "2022-01-24T01:34:03.822975Z",
     "shell.execute_reply.started": "2022-01-24T01:34:03.811398Z"
    }
   },
   "outputs": [
    {
     "data": {
      "text/plain": [
       "((711, 8), (178, 8), (711,), (178,))"
      ]
     },
     "execution_count": 17,
     "metadata": {},
     "output_type": "execute_result"
    }
   ],
   "source": [
    "from sklearn.model_selection import train_test_split\n",
    "\n",
    "tf.random.set_seed(42)\n",
    "\n",
    "X_train, X_valid, y_train, y_valid = train_test_split(X, y, test_size=0.2, random_state=42)\n",
    "\n",
    "X_train.shape, X_valid.shape, y_train.shape, y_valid.shape"
   ]
  },
  {
   "cell_type": "markdown",
   "metadata": {},
   "source": [
    "Building and Training model"
   ]
  },
  {
   "cell_type": "code",
   "execution_count": 18,
   "metadata": {
    "execution": {
     "iopub.execute_input": "2022-01-24T02:09:48.638033Z",
     "iopub.status.busy": "2022-01-24T02:09:48.637735Z",
     "iopub.status.idle": "2022-01-24T02:10:11.001483Z",
     "shell.execute_reply": "2022-01-24T02:10:11.0006Z",
     "shell.execute_reply.started": "2022-01-24T02:09:48.638003Z"
    }
   },
   "outputs": [
    {
     "name": "stdout",
     "output_type": "stream",
     "text": [
      "Epoch 1/250\n",
      "23/23 [==============================] - 1s 11ms/step - loss: 0.6953 - accuracy: 0.5696 - val_loss: 0.6919 - val_accuracy: 0.5787\n",
      "Epoch 2/250\n",
      "23/23 [==============================] - 0s 3ms/step - loss: 0.6901 - accuracy: 0.5935 - val_loss: 0.6863 - val_accuracy: 0.5955\n",
      "Epoch 3/250\n",
      "23/23 [==============================] - 0s 3ms/step - loss: 0.6850 - accuracy: 0.6287 - val_loss: 0.6805 - val_accuracy: 0.6854\n",
      "Epoch 4/250\n",
      "23/23 [==============================] - 0s 3ms/step - loss: 0.6799 - accuracy: 0.6639 - val_loss: 0.6743 - val_accuracy: 0.7191\n",
      "Epoch 5/250\n",
      "23/23 [==============================] - 0s 3ms/step - loss: 0.6747 - accuracy: 0.6892 - val_loss: 0.6686 - val_accuracy: 0.7360\n",
      "Epoch 6/250\n",
      "23/23 [==============================] - 0s 3ms/step - loss: 0.6695 - accuracy: 0.7117 - val_loss: 0.6625 - val_accuracy: 0.7528\n",
      "Epoch 7/250\n",
      "23/23 [==============================] - 0s 5ms/step - loss: 0.6642 - accuracy: 0.7215 - val_loss: 0.6568 - val_accuracy: 0.7416\n",
      "Epoch 8/250\n",
      "23/23 [==============================] - 0s 3ms/step - loss: 0.6590 - accuracy: 0.7286 - val_loss: 0.6505 - val_accuracy: 0.7584\n",
      "Epoch 9/250\n",
      "23/23 [==============================] - 0s 3ms/step - loss: 0.6535 - accuracy: 0.7440 - val_loss: 0.6442 - val_accuracy: 0.7640\n",
      "Epoch 10/250\n",
      "23/23 [==============================] - 0s 3ms/step - loss: 0.6480 - accuracy: 0.7482 - val_loss: 0.6379 - val_accuracy: 0.7809\n",
      "Epoch 11/250\n",
      "23/23 [==============================] - 0s 3ms/step - loss: 0.6425 - accuracy: 0.7482 - val_loss: 0.6314 - val_accuracy: 0.7921\n",
      "Epoch 12/250\n",
      "23/23 [==============================] - 0s 3ms/step - loss: 0.6369 - accuracy: 0.7440 - val_loss: 0.6253 - val_accuracy: 0.7978\n",
      "Epoch 13/250\n",
      "23/23 [==============================] - 0s 3ms/step - loss: 0.6313 - accuracy: 0.7496 - val_loss: 0.6186 - val_accuracy: 0.8034\n",
      "Epoch 14/250\n",
      "23/23 [==============================] - 0s 3ms/step - loss: 0.6256 - accuracy: 0.7553 - val_loss: 0.6120 - val_accuracy: 0.8034\n",
      "Epoch 15/250\n",
      "23/23 [==============================] - 0s 3ms/step - loss: 0.6197 - accuracy: 0.7637 - val_loss: 0.6059 - val_accuracy: 0.8034\n",
      "Epoch 16/250\n",
      "23/23 [==============================] - 0s 3ms/step - loss: 0.6141 - accuracy: 0.7707 - val_loss: 0.5996 - val_accuracy: 0.8090\n",
      "Epoch 17/250\n",
      "23/23 [==============================] - 0s 3ms/step - loss: 0.6083 - accuracy: 0.7679 - val_loss: 0.5933 - val_accuracy: 0.8090\n",
      "Epoch 18/250\n",
      "23/23 [==============================] - 0s 3ms/step - loss: 0.6024 - accuracy: 0.7679 - val_loss: 0.5868 - val_accuracy: 0.8146\n",
      "Epoch 19/250\n",
      "23/23 [==============================] - 0s 6ms/step - loss: 0.5965 - accuracy: 0.7665 - val_loss: 0.5802 - val_accuracy: 0.8202\n",
      "Epoch 20/250\n",
      "23/23 [==============================] - 0s 4ms/step - loss: 0.5907 - accuracy: 0.7679 - val_loss: 0.5736 - val_accuracy: 0.8202\n",
      "Epoch 21/250\n",
      "23/23 [==============================] - 0s 4ms/step - loss: 0.5847 - accuracy: 0.7722 - val_loss: 0.5673 - val_accuracy: 0.8202\n",
      "Epoch 22/250\n",
      "23/23 [==============================] - 0s 3ms/step - loss: 0.5789 - accuracy: 0.7707 - val_loss: 0.5612 - val_accuracy: 0.8146\n",
      "Epoch 23/250\n",
      "23/23 [==============================] - 0s 3ms/step - loss: 0.5736 - accuracy: 0.7693 - val_loss: 0.5553 - val_accuracy: 0.8146\n",
      "Epoch 24/250\n",
      "23/23 [==============================] - 0s 3ms/step - loss: 0.5681 - accuracy: 0.7693 - val_loss: 0.5497 - val_accuracy: 0.8146\n",
      "Epoch 25/250\n",
      "23/23 [==============================] - 0s 2ms/step - loss: 0.5628 - accuracy: 0.7693 - val_loss: 0.5433 - val_accuracy: 0.8146\n",
      "Epoch 26/250\n",
      "23/23 [==============================] - 0s 2ms/step - loss: 0.5574 - accuracy: 0.7693 - val_loss: 0.5378 - val_accuracy: 0.8146\n",
      "Epoch 27/250\n",
      "23/23 [==============================] - 0s 3ms/step - loss: 0.5523 - accuracy: 0.7707 - val_loss: 0.5323 - val_accuracy: 0.8146\n",
      "Epoch 28/250\n",
      "23/23 [==============================] - 0s 3ms/step - loss: 0.5474 - accuracy: 0.7750 - val_loss: 0.5273 - val_accuracy: 0.8090\n",
      "Epoch 29/250\n",
      "23/23 [==============================] - 0s 3ms/step - loss: 0.5426 - accuracy: 0.7736 - val_loss: 0.5224 - val_accuracy: 0.8090\n",
      "Epoch 30/250\n",
      "23/23 [==============================] - 0s 3ms/step - loss: 0.5380 - accuracy: 0.7750 - val_loss: 0.5174 - val_accuracy: 0.8146\n",
      "Epoch 31/250\n",
      "23/23 [==============================] - 0s 3ms/step - loss: 0.5336 - accuracy: 0.7778 - val_loss: 0.5130 - val_accuracy: 0.8146\n",
      "Epoch 32/250\n",
      "23/23 [==============================] - 0s 3ms/step - loss: 0.5295 - accuracy: 0.7820 - val_loss: 0.5086 - val_accuracy: 0.8202\n",
      "Epoch 33/250\n",
      "23/23 [==============================] - 0s 3ms/step - loss: 0.5252 - accuracy: 0.7834 - val_loss: 0.5042 - val_accuracy: 0.8146\n",
      "Epoch 34/250\n",
      "23/23 [==============================] - 0s 3ms/step - loss: 0.5213 - accuracy: 0.7820 - val_loss: 0.5004 - val_accuracy: 0.8202\n",
      "Epoch 35/250\n",
      "23/23 [==============================] - 0s 3ms/step - loss: 0.5176 - accuracy: 0.7848 - val_loss: 0.4966 - val_accuracy: 0.8202\n",
      "Epoch 36/250\n",
      "23/23 [==============================] - 0s 3ms/step - loss: 0.5140 - accuracy: 0.7848 - val_loss: 0.4931 - val_accuracy: 0.7978\n",
      "Epoch 37/250\n",
      "23/23 [==============================] - 0s 3ms/step - loss: 0.5103 - accuracy: 0.7848 - val_loss: 0.4896 - val_accuracy: 0.8034\n",
      "Epoch 38/250\n",
      "23/23 [==============================] - 0s 3ms/step - loss: 0.5070 - accuracy: 0.7848 - val_loss: 0.4862 - val_accuracy: 0.7978\n",
      "Epoch 39/250\n",
      "23/23 [==============================] - 0s 2ms/step - loss: 0.5038 - accuracy: 0.7862 - val_loss: 0.4832 - val_accuracy: 0.7978\n",
      "Epoch 40/250\n",
      "23/23 [==============================] - 0s 3ms/step - loss: 0.5010 - accuracy: 0.7862 - val_loss: 0.4804 - val_accuracy: 0.7978\n",
      "Epoch 41/250\n",
      "23/23 [==============================] - 0s 3ms/step - loss: 0.4981 - accuracy: 0.7862 - val_loss: 0.4779 - val_accuracy: 0.7978\n",
      "Epoch 42/250\n",
      "23/23 [==============================] - 0s 5ms/step - loss: 0.4955 - accuracy: 0.7862 - val_loss: 0.4755 - val_accuracy: 0.7921\n",
      "Epoch 43/250\n",
      "23/23 [==============================] - 0s 4ms/step - loss: 0.4929 - accuracy: 0.7862 - val_loss: 0.4738 - val_accuracy: 0.7921\n",
      "Epoch 44/250\n",
      "23/23 [==============================] - 0s 3ms/step - loss: 0.4905 - accuracy: 0.7890 - val_loss: 0.4713 - val_accuracy: 0.7921\n",
      "Epoch 45/250\n",
      "23/23 [==============================] - 0s 3ms/step - loss: 0.4882 - accuracy: 0.7904 - val_loss: 0.4699 - val_accuracy: 0.7921\n",
      "Epoch 46/250\n",
      "23/23 [==============================] - 0s 2ms/step - loss: 0.4862 - accuracy: 0.7890 - val_loss: 0.4685 - val_accuracy: 0.7921\n",
      "Epoch 47/250\n",
      "23/23 [==============================] - 0s 3ms/step - loss: 0.4841 - accuracy: 0.7918 - val_loss: 0.4669 - val_accuracy: 0.7921\n",
      "Epoch 48/250\n",
      "23/23 [==============================] - 0s 4ms/step - loss: 0.4822 - accuracy: 0.7918 - val_loss: 0.4652 - val_accuracy: 0.7921\n",
      "Epoch 49/250\n",
      "23/23 [==============================] - 0s 3ms/step - loss: 0.4802 - accuracy: 0.7918 - val_loss: 0.4634 - val_accuracy: 0.7921\n",
      "Epoch 50/250\n",
      "23/23 [==============================] - 0s 3ms/step - loss: 0.4782 - accuracy: 0.7918 - val_loss: 0.4623 - val_accuracy: 0.7921\n",
      "Epoch 51/250\n",
      "23/23 [==============================] - 0s 3ms/step - loss: 0.4764 - accuracy: 0.7918 - val_loss: 0.4613 - val_accuracy: 0.7921\n",
      "Epoch 52/250\n",
      "23/23 [==============================] - 0s 3ms/step - loss: 0.4748 - accuracy: 0.7932 - val_loss: 0.4603 - val_accuracy: 0.7978\n",
      "Epoch 53/250\n",
      "23/23 [==============================] - 0s 4ms/step - loss: 0.4732 - accuracy: 0.7947 - val_loss: 0.4595 - val_accuracy: 0.7978\n",
      "Epoch 54/250\n",
      "23/23 [==============================] - 0s 4ms/step - loss: 0.4718 - accuracy: 0.7947 - val_loss: 0.4583 - val_accuracy: 0.8090\n",
      "Epoch 55/250\n",
      "23/23 [==============================] - 0s 3ms/step - loss: 0.4701 - accuracy: 0.7947 - val_loss: 0.4574 - val_accuracy: 0.8034\n",
      "Epoch 56/250\n",
      "23/23 [==============================] - 0s 3ms/step - loss: 0.4687 - accuracy: 0.7947 - val_loss: 0.4564 - val_accuracy: 0.8090\n",
      "Epoch 57/250\n",
      "23/23 [==============================] - 0s 3ms/step - loss: 0.4674 - accuracy: 0.7947 - val_loss: 0.4557 - val_accuracy: 0.8090\n",
      "Epoch 58/250\n",
      "23/23 [==============================] - 0s 3ms/step - loss: 0.4661 - accuracy: 0.7947 - val_loss: 0.4552 - val_accuracy: 0.8090\n"
     ]
    },
    {
     "name": "stdout",
     "output_type": "stream",
     "text": [
      "Epoch 59/250\n",
      "23/23 [==============================] - 0s 4ms/step - loss: 0.4648 - accuracy: 0.7961 - val_loss: 0.4546 - val_accuracy: 0.8034\n",
      "Epoch 60/250\n",
      "23/23 [==============================] - 0s 4ms/step - loss: 0.4635 - accuracy: 0.7947 - val_loss: 0.4540 - val_accuracy: 0.8090\n",
      "Epoch 61/250\n",
      "23/23 [==============================] - 0s 4ms/step - loss: 0.4623 - accuracy: 0.7961 - val_loss: 0.4536 - val_accuracy: 0.8090\n",
      "Epoch 62/250\n",
      "23/23 [==============================] - 0s 4ms/step - loss: 0.4611 - accuracy: 0.7961 - val_loss: 0.4534 - val_accuracy: 0.8090\n",
      "Epoch 63/250\n",
      "23/23 [==============================] - 0s 3ms/step - loss: 0.4601 - accuracy: 0.7961 - val_loss: 0.4530 - val_accuracy: 0.8090\n",
      "Epoch 64/250\n",
      "23/23 [==============================] - 0s 3ms/step - loss: 0.4589 - accuracy: 0.7975 - val_loss: 0.4525 - val_accuracy: 0.8090\n",
      "Epoch 65/250\n",
      "23/23 [==============================] - 0s 3ms/step - loss: 0.4578 - accuracy: 0.7975 - val_loss: 0.4521 - val_accuracy: 0.8090\n",
      "Epoch 66/250\n",
      "23/23 [==============================] - 0s 3ms/step - loss: 0.4568 - accuracy: 0.7975 - val_loss: 0.4518 - val_accuracy: 0.8090\n",
      "Epoch 67/250\n",
      "23/23 [==============================] - 0s 3ms/step - loss: 0.4558 - accuracy: 0.7989 - val_loss: 0.4513 - val_accuracy: 0.8090\n",
      "Epoch 68/250\n",
      "23/23 [==============================] - 0s 3ms/step - loss: 0.4548 - accuracy: 0.8003 - val_loss: 0.4511 - val_accuracy: 0.8090\n",
      "Epoch 69/250\n",
      "23/23 [==============================] - 0s 4ms/step - loss: 0.4538 - accuracy: 0.7989 - val_loss: 0.4509 - val_accuracy: 0.8090\n",
      "Epoch 70/250\n",
      "23/23 [==============================] - 0s 3ms/step - loss: 0.4529 - accuracy: 0.7989 - val_loss: 0.4505 - val_accuracy: 0.8090\n",
      "Epoch 71/250\n",
      "23/23 [==============================] - 0s 4ms/step - loss: 0.4521 - accuracy: 0.8003 - val_loss: 0.4501 - val_accuracy: 0.8090\n",
      "Epoch 72/250\n",
      "23/23 [==============================] - 0s 4ms/step - loss: 0.4512 - accuracy: 0.8003 - val_loss: 0.4502 - val_accuracy: 0.8090\n",
      "Epoch 73/250\n",
      "23/23 [==============================] - 0s 4ms/step - loss: 0.4504 - accuracy: 0.8003 - val_loss: 0.4498 - val_accuracy: 0.8090\n",
      "Epoch 74/250\n",
      "23/23 [==============================] - 0s 5ms/step - loss: 0.4497 - accuracy: 0.8017 - val_loss: 0.4497 - val_accuracy: 0.8090\n",
      "Epoch 75/250\n",
      "23/23 [==============================] - 0s 5ms/step - loss: 0.4488 - accuracy: 0.8059 - val_loss: 0.4502 - val_accuracy: 0.8090\n",
      "Epoch 76/250\n",
      "23/23 [==============================] - 0s 4ms/step - loss: 0.4481 - accuracy: 0.8031 - val_loss: 0.4498 - val_accuracy: 0.8090\n",
      "Epoch 77/250\n",
      "23/23 [==============================] - 0s 4ms/step - loss: 0.4473 - accuracy: 0.8017 - val_loss: 0.4497 - val_accuracy: 0.8090\n",
      "Epoch 78/250\n",
      "23/23 [==============================] - 0s 4ms/step - loss: 0.4466 - accuracy: 0.8017 - val_loss: 0.4494 - val_accuracy: 0.8034\n",
      "Epoch 79/250\n",
      "23/23 [==============================] - 0s 5ms/step - loss: 0.4458 - accuracy: 0.8045 - val_loss: 0.4495 - val_accuracy: 0.8034\n",
      "Epoch 80/250\n",
      "23/23 [==============================] - 0s 4ms/step - loss: 0.4451 - accuracy: 0.8045 - val_loss: 0.4495 - val_accuracy: 0.8034\n",
      "Epoch 81/250\n",
      "23/23 [==============================] - 0s 3ms/step - loss: 0.4444 - accuracy: 0.8073 - val_loss: 0.4501 - val_accuracy: 0.7978\n",
      "Epoch 82/250\n",
      "23/23 [==============================] - 0s 3ms/step - loss: 0.4436 - accuracy: 0.8087 - val_loss: 0.4501 - val_accuracy: 0.7865\n",
      "Epoch 83/250\n",
      "23/23 [==============================] - 0s 3ms/step - loss: 0.4431 - accuracy: 0.8087 - val_loss: 0.4504 - val_accuracy: 0.7865\n",
      "Epoch 84/250\n",
      "23/23 [==============================] - 0s 3ms/step - loss: 0.4423 - accuracy: 0.8087 - val_loss: 0.4505 - val_accuracy: 0.7865\n",
      "Epoch 85/250\n",
      "23/23 [==============================] - 0s 4ms/step - loss: 0.4417 - accuracy: 0.8115 - val_loss: 0.4499 - val_accuracy: 0.8090\n",
      "Epoch 86/250\n",
      "23/23 [==============================] - 0s 3ms/step - loss: 0.4411 - accuracy: 0.8115 - val_loss: 0.4502 - val_accuracy: 0.7978\n",
      "Epoch 87/250\n",
      "23/23 [==============================] - 0s 3ms/step - loss: 0.4405 - accuracy: 0.8087 - val_loss: 0.4503 - val_accuracy: 0.7809\n",
      "Epoch 88/250\n",
      "23/23 [==============================] - 0s 3ms/step - loss: 0.4398 - accuracy: 0.8101 - val_loss: 0.4500 - val_accuracy: 0.7978\n",
      "Epoch 89/250\n",
      "23/23 [==============================] - 0s 4ms/step - loss: 0.4392 - accuracy: 0.8129 - val_loss: 0.4500 - val_accuracy: 0.8090\n",
      "Epoch 90/250\n",
      "23/23 [==============================] - 0s 4ms/step - loss: 0.4386 - accuracy: 0.8129 - val_loss: 0.4502 - val_accuracy: 0.7978\n",
      "Epoch 91/250\n",
      "23/23 [==============================] - 0s 3ms/step - loss: 0.4381 - accuracy: 0.8129 - val_loss: 0.4502 - val_accuracy: 0.7978\n",
      "Epoch 92/250\n",
      "23/23 [==============================] - 0s 4ms/step - loss: 0.4373 - accuracy: 0.8129 - val_loss: 0.4503 - val_accuracy: 0.7921\n",
      "Epoch 93/250\n",
      "23/23 [==============================] - 0s 4ms/step - loss: 0.4369 - accuracy: 0.8087 - val_loss: 0.4509 - val_accuracy: 0.7865\n",
      "Epoch 94/250\n",
      "23/23 [==============================] - 0s 3ms/step - loss: 0.4362 - accuracy: 0.8087 - val_loss: 0.4508 - val_accuracy: 0.7865\n",
      "Epoch 95/250\n",
      "23/23 [==============================] - 0s 3ms/step - loss: 0.4356 - accuracy: 0.8087 - val_loss: 0.4511 - val_accuracy: 0.7865\n",
      "Epoch 96/250\n",
      "23/23 [==============================] - 0s 3ms/step - loss: 0.4350 - accuracy: 0.8101 - val_loss: 0.4517 - val_accuracy: 0.7865\n",
      "Epoch 97/250\n",
      "23/23 [==============================] - 0s 4ms/step - loss: 0.4346 - accuracy: 0.8101 - val_loss: 0.4519 - val_accuracy: 0.7865\n",
      "Epoch 98/250\n",
      "23/23 [==============================] - 0s 4ms/step - loss: 0.4341 - accuracy: 0.8101 - val_loss: 0.4521 - val_accuracy: 0.7865\n",
      "Epoch 99/250\n",
      "23/23 [==============================] - 0s 4ms/step - loss: 0.4336 - accuracy: 0.8129 - val_loss: 0.4522 - val_accuracy: 0.7865\n",
      "Epoch 100/250\n",
      "23/23 [==============================] - 0s 4ms/step - loss: 0.4330 - accuracy: 0.8087 - val_loss: 0.4517 - val_accuracy: 0.7865\n",
      "Epoch 101/250\n",
      "23/23 [==============================] - 0s 3ms/step - loss: 0.4326 - accuracy: 0.8087 - val_loss: 0.4517 - val_accuracy: 0.7921\n",
      "Epoch 102/250\n",
      "23/23 [==============================] - 0s 3ms/step - loss: 0.4320 - accuracy: 0.8101 - val_loss: 0.4515 - val_accuracy: 0.7865\n",
      "Epoch 103/250\n",
      "23/23 [==============================] - 0s 3ms/step - loss: 0.4315 - accuracy: 0.8101 - val_loss: 0.4518 - val_accuracy: 0.7921\n",
      "Epoch 104/250\n",
      "23/23 [==============================] - 0s 2ms/step - loss: 0.4309 - accuracy: 0.8115 - val_loss: 0.4518 - val_accuracy: 0.7865\n",
      "Epoch 105/250\n",
      "23/23 [==============================] - 0s 3ms/step - loss: 0.4305 - accuracy: 0.8115 - val_loss: 0.4518 - val_accuracy: 0.7865\n",
      "Epoch 106/250\n",
      "23/23 [==============================] - 0s 4ms/step - loss: 0.4298 - accuracy: 0.8115 - val_loss: 0.4523 - val_accuracy: 0.7865\n",
      "Epoch 107/250\n",
      "23/23 [==============================] - 0s 3ms/step - loss: 0.4295 - accuracy: 0.8115 - val_loss: 0.4528 - val_accuracy: 0.7865\n",
      "Epoch 108/250\n",
      "23/23 [==============================] - 0s 3ms/step - loss: 0.4291 - accuracy: 0.8129 - val_loss: 0.4519 - val_accuracy: 0.7921\n",
      "Epoch 109/250\n",
      "23/23 [==============================] - 0s 3ms/step - loss: 0.4285 - accuracy: 0.8143 - val_loss: 0.4530 - val_accuracy: 0.7865\n",
      "Epoch 110/250\n",
      "23/23 [==============================] - 0s 3ms/step - loss: 0.4279 - accuracy: 0.8115 - val_loss: 0.4534 - val_accuracy: 0.7865\n",
      "Epoch 111/250\n",
      "23/23 [==============================] - 0s 3ms/step - loss: 0.4275 - accuracy: 0.8129 - val_loss: 0.4536 - val_accuracy: 0.7865\n",
      "Epoch 112/250\n",
      "23/23 [==============================] - 0s 3ms/step - loss: 0.4270 - accuracy: 0.8143 - val_loss: 0.4531 - val_accuracy: 0.7865\n",
      "Epoch 113/250\n",
      "23/23 [==============================] - 0s 3ms/step - loss: 0.4266 - accuracy: 0.8143 - val_loss: 0.4528 - val_accuracy: 0.7865\n",
      "Epoch 114/250\n",
      "23/23 [==============================] - 0s 3ms/step - loss: 0.4260 - accuracy: 0.8143 - val_loss: 0.4533 - val_accuracy: 0.7865\n",
      "Epoch 115/250\n",
      "23/23 [==============================] - 0s 3ms/step - loss: 0.4257 - accuracy: 0.8129 - val_loss: 0.4530 - val_accuracy: 0.7978\n",
      "Epoch 116/250\n",
      "23/23 [==============================] - 0s 3ms/step - loss: 0.4252 - accuracy: 0.8129 - val_loss: 0.4537 - val_accuracy: 0.7865\n",
      "Epoch 117/250\n",
      "23/23 [==============================] - 0s 3ms/step - loss: 0.4247 - accuracy: 0.8143 - val_loss: 0.4540 - val_accuracy: 0.7865\n",
      "Epoch 118/250\n",
      "23/23 [==============================] - 0s 3ms/step - loss: 0.4243 - accuracy: 0.8143 - val_loss: 0.4538 - val_accuracy: 0.7978\n",
      "Epoch 119/250\n",
      "23/23 [==============================] - 0s 3ms/step - loss: 0.4238 - accuracy: 0.8143 - val_loss: 0.4539 - val_accuracy: 0.7978\n",
      "Epoch 120/250\n",
      "23/23 [==============================] - 0s 3ms/step - loss: 0.4234 - accuracy: 0.8143 - val_loss: 0.4539 - val_accuracy: 0.7978\n",
      "Epoch 121/250\n",
      "23/23 [==============================] - 0s 3ms/step - loss: 0.4230 - accuracy: 0.8129 - val_loss: 0.4539 - val_accuracy: 0.7978\n",
      "Epoch 122/250\n",
      "23/23 [==============================] - 0s 3ms/step - loss: 0.4226 - accuracy: 0.8143 - val_loss: 0.4541 - val_accuracy: 0.7978\n",
      "Epoch 123/250\n",
      "23/23 [==============================] - 0s 3ms/step - loss: 0.4223 - accuracy: 0.8143 - val_loss: 0.4544 - val_accuracy: 0.7978\n",
      "Epoch 124/250\n",
      "23/23 [==============================] - 0s 4ms/step - loss: 0.4219 - accuracy: 0.8143 - val_loss: 0.4550 - val_accuracy: 0.7978\n",
      "Epoch 125/250\n",
      "23/23 [==============================] - 0s 4ms/step - loss: 0.4215 - accuracy: 0.8186 - val_loss: 0.4548 - val_accuracy: 0.7978\n",
      "Epoch 126/250\n",
      "23/23 [==============================] - 0s 3ms/step - loss: 0.4212 - accuracy: 0.8143 - val_loss: 0.4547 - val_accuracy: 0.7978\n",
      "Epoch 127/250\n",
      "23/23 [==============================] - 0s 3ms/step - loss: 0.4206 - accuracy: 0.8143 - val_loss: 0.4546 - val_accuracy: 0.7978\n",
      "Epoch 128/250\n",
      "23/23 [==============================] - 0s 3ms/step - loss: 0.4204 - accuracy: 0.8158 - val_loss: 0.4554 - val_accuracy: 0.7978\n",
      "Epoch 129/250\n",
      "23/23 [==============================] - 0s 3ms/step - loss: 0.4200 - accuracy: 0.8158 - val_loss: 0.4553 - val_accuracy: 0.7978\n",
      "Epoch 130/250\n",
      "23/23 [==============================] - 0s 3ms/step - loss: 0.4198 - accuracy: 0.8158 - val_loss: 0.4561 - val_accuracy: 0.7978\n",
      "Epoch 131/250\n",
      "23/23 [==============================] - 0s 3ms/step - loss: 0.4194 - accuracy: 0.8158 - val_loss: 0.4562 - val_accuracy: 0.7978\n",
      "Epoch 132/250\n",
      "23/23 [==============================] - 0s 3ms/step - loss: 0.4192 - accuracy: 0.8143 - val_loss: 0.4554 - val_accuracy: 0.8034\n",
      "Epoch 133/250\n",
      "23/23 [==============================] - 0s 3ms/step - loss: 0.4187 - accuracy: 0.8129 - val_loss: 0.4560 - val_accuracy: 0.8034\n",
      "Epoch 134/250\n",
      "23/23 [==============================] - 0s 4ms/step - loss: 0.4183 - accuracy: 0.8129 - val_loss: 0.4566 - val_accuracy: 0.8034\n",
      "Epoch 135/250\n",
      "23/23 [==============================] - 0s 3ms/step - loss: 0.4180 - accuracy: 0.8143 - val_loss: 0.4573 - val_accuracy: 0.7978\n",
      "Epoch 136/250\n",
      "23/23 [==============================] - 0s 3ms/step - loss: 0.4177 - accuracy: 0.8129 - val_loss: 0.4571 - val_accuracy: 0.7978\n",
      "Epoch 137/250\n",
      "23/23 [==============================] - 0s 4ms/step - loss: 0.4173 - accuracy: 0.8129 - val_loss: 0.4575 - val_accuracy: 0.7978\n",
      "Epoch 138/250\n",
      "23/23 [==============================] - 0s 3ms/step - loss: 0.4171 - accuracy: 0.8129 - val_loss: 0.4577 - val_accuracy: 0.7978\n",
      "Epoch 139/250\n",
      "23/23 [==============================] - 0s 3ms/step - loss: 0.4168 - accuracy: 0.8129 - val_loss: 0.4582 - val_accuracy: 0.7978\n",
      "Epoch 140/250\n",
      "23/23 [==============================] - 0s 3ms/step - loss: 0.4165 - accuracy: 0.8129 - val_loss: 0.4594 - val_accuracy: 0.7809\n",
      "Epoch 141/250\n",
      "23/23 [==============================] - 0s 3ms/step - loss: 0.4163 - accuracy: 0.8158 - val_loss: 0.4589 - val_accuracy: 0.7921\n",
      "Epoch 142/250\n",
      "23/23 [==============================] - 0s 3ms/step - loss: 0.4159 - accuracy: 0.8129 - val_loss: 0.4597 - val_accuracy: 0.7921\n",
      "Epoch 143/250\n",
      "23/23 [==============================] - 0s 2ms/step - loss: 0.4157 - accuracy: 0.8158 - val_loss: 0.4595 - val_accuracy: 0.7921\n",
      "Epoch 144/250\n",
      "23/23 [==============================] - 0s 3ms/step - loss: 0.4152 - accuracy: 0.8143 - val_loss: 0.4597 - val_accuracy: 0.7921\n",
      "Epoch 145/250\n",
      "23/23 [==============================] - 0s 3ms/step - loss: 0.4150 - accuracy: 0.8101 - val_loss: 0.4598 - val_accuracy: 0.7978\n",
      "Epoch 146/250\n",
      "23/23 [==============================] - 0s 3ms/step - loss: 0.4146 - accuracy: 0.8143 - val_loss: 0.4602 - val_accuracy: 0.7921\n",
      "Epoch 147/250\n",
      "23/23 [==============================] - 0s 8ms/step - loss: 0.4143 - accuracy: 0.8143 - val_loss: 0.4605 - val_accuracy: 0.7921\n",
      "Epoch 148/250\n",
      "23/23 [==============================] - 0s 3ms/step - loss: 0.4141 - accuracy: 0.8158 - val_loss: 0.4599 - val_accuracy: 0.7978\n",
      "Epoch 149/250\n",
      "23/23 [==============================] - 0s 3ms/step - loss: 0.4137 - accuracy: 0.8115 - val_loss: 0.4599 - val_accuracy: 0.7978\n",
      "Epoch 150/250\n",
      "23/23 [==============================] - 0s 3ms/step - loss: 0.4134 - accuracy: 0.8115 - val_loss: 0.4606 - val_accuracy: 0.7978\n",
      "Epoch 151/250\n",
      "23/23 [==============================] - 0s 3ms/step - loss: 0.4132 - accuracy: 0.8143 - val_loss: 0.4602 - val_accuracy: 0.7978\n",
      "Epoch 152/250\n",
      "23/23 [==============================] - 0s 3ms/step - loss: 0.4129 - accuracy: 0.8115 - val_loss: 0.4602 - val_accuracy: 0.7978\n",
      "Epoch 153/250\n",
      "23/23 [==============================] - 0s 3ms/step - loss: 0.4126 - accuracy: 0.8115 - val_loss: 0.4607 - val_accuracy: 0.7978\n",
      "Epoch 154/250\n",
      "23/23 [==============================] - 0s 3ms/step - loss: 0.4124 - accuracy: 0.8115 - val_loss: 0.4606 - val_accuracy: 0.7978\n",
      "Epoch 155/250\n",
      "23/23 [==============================] - 0s 3ms/step - loss: 0.4121 - accuracy: 0.8129 - val_loss: 0.4619 - val_accuracy: 0.7978\n",
      "Epoch 156/250\n",
      "23/23 [==============================] - 0s 3ms/step - loss: 0.4118 - accuracy: 0.8129 - val_loss: 0.4622 - val_accuracy: 0.8034\n",
      "Epoch 157/250\n",
      "23/23 [==============================] - 0s 3ms/step - loss: 0.4116 - accuracy: 0.8143 - val_loss: 0.4625 - val_accuracy: 0.8034\n",
      "Epoch 158/250\n",
      "23/23 [==============================] - 0s 3ms/step - loss: 0.4113 - accuracy: 0.8158 - val_loss: 0.4631 - val_accuracy: 0.8034\n",
      "Epoch 159/250\n",
      "23/23 [==============================] - 0s 3ms/step - loss: 0.4113 - accuracy: 0.8129 - val_loss: 0.4634 - val_accuracy: 0.8034\n",
      "Epoch 160/250\n",
      "23/23 [==============================] - 0s 3ms/step - loss: 0.4107 - accuracy: 0.8158 - val_loss: 0.4637 - val_accuracy: 0.7978\n",
      "Epoch 161/250\n",
      "23/23 [==============================] - 0s 3ms/step - loss: 0.4106 - accuracy: 0.8143 - val_loss: 0.4640 - val_accuracy: 0.7978\n",
      "Epoch 162/250\n",
      "23/23 [==============================] - 0s 4ms/step - loss: 0.4103 - accuracy: 0.8143 - val_loss: 0.4630 - val_accuracy: 0.8034\n",
      "Epoch 163/250\n",
      "23/23 [==============================] - 0s 8ms/step - loss: 0.4100 - accuracy: 0.8129 - val_loss: 0.4632 - val_accuracy: 0.8034\n",
      "Epoch 164/250\n",
      "23/23 [==============================] - 0s 4ms/step - loss: 0.4096 - accuracy: 0.8143 - val_loss: 0.4635 - val_accuracy: 0.8034\n",
      "Epoch 165/250\n",
      "23/23 [==============================] - 0s 3ms/step - loss: 0.4096 - accuracy: 0.8172 - val_loss: 0.4637 - val_accuracy: 0.8034\n",
      "Epoch 166/250\n",
      "23/23 [==============================] - 0s 3ms/step - loss: 0.4093 - accuracy: 0.8158 - val_loss: 0.4645 - val_accuracy: 0.8034\n",
      "Epoch 167/250\n",
      "23/23 [==============================] - 0s 3ms/step - loss: 0.4090 - accuracy: 0.8172 - val_loss: 0.4655 - val_accuracy: 0.8034\n",
      "Epoch 168/250\n",
      "23/23 [==============================] - 0s 4ms/step - loss: 0.4087 - accuracy: 0.8186 - val_loss: 0.4655 - val_accuracy: 0.7978\n",
      "Epoch 169/250\n",
      "23/23 [==============================] - 0s 3ms/step - loss: 0.4085 - accuracy: 0.8172 - val_loss: 0.4656 - val_accuracy: 0.8034\n",
      "Epoch 170/250\n",
      "23/23 [==============================] - 0s 3ms/step - loss: 0.4082 - accuracy: 0.8186 - val_loss: 0.4658 - val_accuracy: 0.8034\n",
      "Epoch 171/250\n",
      "23/23 [==============================] - 0s 4ms/step - loss: 0.4081 - accuracy: 0.8186 - val_loss: 0.4666 - val_accuracy: 0.8034\n",
      "Epoch 172/250\n",
      "23/23 [==============================] - 0s 4ms/step - loss: 0.4079 - accuracy: 0.8186 - val_loss: 0.4658 - val_accuracy: 0.8034\n",
      "Epoch 173/250\n"
     ]
    },
    {
     "name": "stdout",
     "output_type": "stream",
     "text": [
      "23/23 [==============================] - 0s 4ms/step - loss: 0.4075 - accuracy: 0.8200 - val_loss: 0.4663 - val_accuracy: 0.8034\n",
      "Epoch 174/250\n",
      "23/23 [==============================] - 0s 3ms/step - loss: 0.4072 - accuracy: 0.8228 - val_loss: 0.4667 - val_accuracy: 0.8034\n",
      "Epoch 175/250\n",
      "23/23 [==============================] - 0s 3ms/step - loss: 0.4071 - accuracy: 0.8200 - val_loss: 0.4673 - val_accuracy: 0.8034\n",
      "Epoch 176/250\n",
      "23/23 [==============================] - 0s 3ms/step - loss: 0.4069 - accuracy: 0.8228 - val_loss: 0.4666 - val_accuracy: 0.8034\n",
      "Epoch 177/250\n",
      "23/23 [==============================] - 0s 3ms/step - loss: 0.4066 - accuracy: 0.8228 - val_loss: 0.4667 - val_accuracy: 0.8034\n",
      "Epoch 178/250\n",
      "23/23 [==============================] - 0s 2ms/step - loss: 0.4063 - accuracy: 0.8228 - val_loss: 0.4671 - val_accuracy: 0.8034\n",
      "Epoch 179/250\n",
      "23/23 [==============================] - 0s 3ms/step - loss: 0.4061 - accuracy: 0.8228 - val_loss: 0.4670 - val_accuracy: 0.8034\n",
      "Epoch 180/250\n",
      "23/23 [==============================] - 0s 3ms/step - loss: 0.4059 - accuracy: 0.8214 - val_loss: 0.4666 - val_accuracy: 0.8090\n",
      "Epoch 181/250\n",
      "23/23 [==============================] - 0s 2ms/step - loss: 0.4057 - accuracy: 0.8214 - val_loss: 0.4676 - val_accuracy: 0.8034\n",
      "Epoch 182/250\n",
      "23/23 [==============================] - 0s 3ms/step - loss: 0.4054 - accuracy: 0.8242 - val_loss: 0.4683 - val_accuracy: 0.8034\n",
      "Epoch 183/250\n",
      "23/23 [==============================] - 0s 2ms/step - loss: 0.4056 - accuracy: 0.8200 - val_loss: 0.4679 - val_accuracy: 0.8034\n",
      "Epoch 184/250\n",
      "23/23 [==============================] - 0s 3ms/step - loss: 0.4050 - accuracy: 0.8214 - val_loss: 0.4684 - val_accuracy: 0.8034\n",
      "Epoch 185/250\n",
      "23/23 [==============================] - 0s 3ms/step - loss: 0.4048 - accuracy: 0.8228 - val_loss: 0.4680 - val_accuracy: 0.8034\n",
      "Epoch 186/250\n",
      "23/23 [==============================] - 0s 4ms/step - loss: 0.4044 - accuracy: 0.8242 - val_loss: 0.4685 - val_accuracy: 0.8034\n",
      "Epoch 187/250\n",
      "23/23 [==============================] - 0s 5ms/step - loss: 0.4043 - accuracy: 0.8242 - val_loss: 0.4687 - val_accuracy: 0.8034\n",
      "Epoch 188/250\n",
      "23/23 [==============================] - 0s 4ms/step - loss: 0.4041 - accuracy: 0.8242 - val_loss: 0.4684 - val_accuracy: 0.8034\n",
      "Epoch 189/250\n",
      "23/23 [==============================] - 0s 3ms/step - loss: 0.4040 - accuracy: 0.8200 - val_loss: 0.4685 - val_accuracy: 0.8034\n",
      "Epoch 190/250\n",
      "23/23 [==============================] - 0s 3ms/step - loss: 0.4037 - accuracy: 0.8228 - val_loss: 0.4692 - val_accuracy: 0.8034\n",
      "Epoch 191/250\n",
      "23/23 [==============================] - 0s 3ms/step - loss: 0.4035 - accuracy: 0.8242 - val_loss: 0.4699 - val_accuracy: 0.8090\n",
      "Epoch 192/250\n",
      "23/23 [==============================] - 0s 2ms/step - loss: 0.4033 - accuracy: 0.8270 - val_loss: 0.4702 - val_accuracy: 0.8090\n",
      "Epoch 193/250\n",
      "23/23 [==============================] - 0s 3ms/step - loss: 0.4030 - accuracy: 0.8256 - val_loss: 0.4698 - val_accuracy: 0.8090\n",
      "Epoch 194/250\n",
      "23/23 [==============================] - 0s 3ms/step - loss: 0.4029 - accuracy: 0.8284 - val_loss: 0.4708 - val_accuracy: 0.8090\n",
      "Epoch 195/250\n",
      "23/23 [==============================] - 0s 3ms/step - loss: 0.4030 - accuracy: 0.8256 - val_loss: 0.4705 - val_accuracy: 0.8090\n",
      "Epoch 196/250\n",
      "23/23 [==============================] - 0s 3ms/step - loss: 0.4024 - accuracy: 0.8256 - val_loss: 0.4709 - val_accuracy: 0.8090\n",
      "Epoch 197/250\n",
      "23/23 [==============================] - 0s 3ms/step - loss: 0.4023 - accuracy: 0.8298 - val_loss: 0.4717 - val_accuracy: 0.8090\n",
      "Epoch 198/250\n",
      "23/23 [==============================] - 0s 3ms/step - loss: 0.4021 - accuracy: 0.8298 - val_loss: 0.4715 - val_accuracy: 0.8090\n",
      "Epoch 199/250\n",
      "23/23 [==============================] - 0s 3ms/step - loss: 0.4020 - accuracy: 0.8270 - val_loss: 0.4719 - val_accuracy: 0.8090\n",
      "Epoch 200/250\n",
      "23/23 [==============================] - 0s 3ms/step - loss: 0.4017 - accuracy: 0.8242 - val_loss: 0.4716 - val_accuracy: 0.8090\n",
      "Epoch 201/250\n",
      "23/23 [==============================] - 0s 3ms/step - loss: 0.4015 - accuracy: 0.8228 - val_loss: 0.4722 - val_accuracy: 0.8090\n",
      "Epoch 202/250\n",
      "23/23 [==============================] - 0s 4ms/step - loss: 0.4013 - accuracy: 0.8228 - val_loss: 0.4725 - val_accuracy: 0.8090\n",
      "Epoch 203/250\n",
      "23/23 [==============================] - 0s 3ms/step - loss: 0.4012 - accuracy: 0.8228 - val_loss: 0.4728 - val_accuracy: 0.8090\n",
      "Epoch 204/250\n",
      "23/23 [==============================] - 0s 3ms/step - loss: 0.4010 - accuracy: 0.8242 - val_loss: 0.4736 - val_accuracy: 0.8034\n",
      "Epoch 205/250\n",
      "23/23 [==============================] - 0s 3ms/step - loss: 0.4008 - accuracy: 0.8270 - val_loss: 0.4734 - val_accuracy: 0.8034\n",
      "Epoch 206/250\n",
      "23/23 [==============================] - 0s 3ms/step - loss: 0.4006 - accuracy: 0.8256 - val_loss: 0.4739 - val_accuracy: 0.8034\n",
      "Epoch 207/250\n",
      "23/23 [==============================] - 0s 3ms/step - loss: 0.4004 - accuracy: 0.8242 - val_loss: 0.4739 - val_accuracy: 0.8034\n",
      "Epoch 208/250\n",
      "23/23 [==============================] - 0s 3ms/step - loss: 0.4002 - accuracy: 0.8242 - val_loss: 0.4739 - val_accuracy: 0.8090\n",
      "Epoch 209/250\n",
      "23/23 [==============================] - 0s 2ms/step - loss: 0.4000 - accuracy: 0.8256 - val_loss: 0.4733 - val_accuracy: 0.8090\n",
      "Epoch 210/250\n",
      "23/23 [==============================] - 0s 2ms/step - loss: 0.4000 - accuracy: 0.8228 - val_loss: 0.4741 - val_accuracy: 0.8090\n",
      "Epoch 211/250\n",
      "23/23 [==============================] - 0s 3ms/step - loss: 0.3995 - accuracy: 0.8242 - val_loss: 0.4741 - val_accuracy: 0.8090\n",
      "Epoch 212/250\n",
      "23/23 [==============================] - 0s 2ms/step - loss: 0.3994 - accuracy: 0.8228 - val_loss: 0.4750 - val_accuracy: 0.8034\n",
      "Epoch 213/250\n",
      "23/23 [==============================] - 0s 3ms/step - loss: 0.3991 - accuracy: 0.8228 - val_loss: 0.4751 - val_accuracy: 0.8034\n",
      "Epoch 214/250\n",
      "23/23 [==============================] - 0s 3ms/step - loss: 0.3992 - accuracy: 0.8270 - val_loss: 0.4758 - val_accuracy: 0.8034\n",
      "Epoch 215/250\n",
      "23/23 [==============================] - 0s 3ms/step - loss: 0.3987 - accuracy: 0.8270 - val_loss: 0.4756 - val_accuracy: 0.8090\n",
      "Epoch 216/250\n",
      "23/23 [==============================] - 0s 3ms/step - loss: 0.3986 - accuracy: 0.8270 - val_loss: 0.4752 - val_accuracy: 0.8090\n",
      "Epoch 217/250\n",
      "23/23 [==============================] - 0s 3ms/step - loss: 0.3984 - accuracy: 0.8270 - val_loss: 0.4758 - val_accuracy: 0.8090\n",
      "Epoch 218/250\n",
      "23/23 [==============================] - 0s 3ms/step - loss: 0.3982 - accuracy: 0.8256 - val_loss: 0.4760 - val_accuracy: 0.8090\n",
      "Epoch 219/250\n",
      "23/23 [==============================] - 0s 3ms/step - loss: 0.3980 - accuracy: 0.8256 - val_loss: 0.4765 - val_accuracy: 0.8034\n",
      "Epoch 220/250\n",
      "23/23 [==============================] - 0s 3ms/step - loss: 0.3978 - accuracy: 0.8270 - val_loss: 0.4761 - val_accuracy: 0.8034\n",
      "Epoch 221/250\n",
      "23/23 [==============================] - 0s 3ms/step - loss: 0.3978 - accuracy: 0.8270 - val_loss: 0.4770 - val_accuracy: 0.8034\n",
      "Epoch 222/250\n",
      "23/23 [==============================] - 0s 3ms/step - loss: 0.3976 - accuracy: 0.8228 - val_loss: 0.4770 - val_accuracy: 0.8090\n",
      "Epoch 223/250\n",
      "23/23 [==============================] - 0s 3ms/step - loss: 0.3976 - accuracy: 0.8270 - val_loss: 0.4776 - val_accuracy: 0.8034\n",
      "Epoch 224/250\n",
      "23/23 [==============================] - 0s 3ms/step - loss: 0.3971 - accuracy: 0.8284 - val_loss: 0.4776 - val_accuracy: 0.8034\n",
      "Epoch 225/250\n",
      "23/23 [==============================] - 0s 3ms/step - loss: 0.3970 - accuracy: 0.8284 - val_loss: 0.4778 - val_accuracy: 0.8034\n",
      "Epoch 226/250\n",
      "23/23 [==============================] - 0s 3ms/step - loss: 0.3969 - accuracy: 0.8270 - val_loss: 0.4782 - val_accuracy: 0.8034\n",
      "Epoch 227/250\n",
      "23/23 [==============================] - 0s 3ms/step - loss: 0.3967 - accuracy: 0.8284 - val_loss: 0.4781 - val_accuracy: 0.8090\n",
      "Epoch 228/250\n",
      "23/23 [==============================] - 0s 3ms/step - loss: 0.3965 - accuracy: 0.8270 - val_loss: 0.4785 - val_accuracy: 0.8090\n",
      "Epoch 229/250\n",
      "23/23 [==============================] - 0s 3ms/step - loss: 0.3964 - accuracy: 0.8270 - val_loss: 0.4785 - val_accuracy: 0.8090\n",
      "Epoch 230/250\n",
      "23/23 [==============================] - 0s 3ms/step - loss: 0.3962 - accuracy: 0.8270 - val_loss: 0.4785 - val_accuracy: 0.8034\n",
      "Epoch 231/250\n",
      "23/23 [==============================] - 0s 3ms/step - loss: 0.3961 - accuracy: 0.8256 - val_loss: 0.4781 - val_accuracy: 0.8034\n",
      "Epoch 232/250\n",
      "23/23 [==============================] - 0s 3ms/step - loss: 0.3960 - accuracy: 0.8256 - val_loss: 0.4780 - val_accuracy: 0.8090\n",
      "Epoch 233/250\n",
      "23/23 [==============================] - 0s 4ms/step - loss: 0.3959 - accuracy: 0.8256 - val_loss: 0.4785 - val_accuracy: 0.8034\n",
      "Epoch 234/250\n",
      "23/23 [==============================] - 0s 3ms/step - loss: 0.3956 - accuracy: 0.8256 - val_loss: 0.4783 - val_accuracy: 0.8034\n",
      "Epoch 235/250\n",
      "23/23 [==============================] - 0s 3ms/step - loss: 0.3956 - accuracy: 0.8256 - val_loss: 0.4780 - val_accuracy: 0.8090\n",
      "Epoch 236/250\n",
      "23/23 [==============================] - 0s 3ms/step - loss: 0.3954 - accuracy: 0.8256 - val_loss: 0.4784 - val_accuracy: 0.8034\n",
      "Epoch 237/250\n",
      "23/23 [==============================] - 0s 3ms/step - loss: 0.3952 - accuracy: 0.8256 - val_loss: 0.4789 - val_accuracy: 0.8034\n",
      "Epoch 238/250\n",
      "23/23 [==============================] - 0s 3ms/step - loss: 0.3950 - accuracy: 0.8256 - val_loss: 0.4788 - val_accuracy: 0.8034\n",
      "Epoch 239/250\n",
      "23/23 [==============================] - 0s 3ms/step - loss: 0.3948 - accuracy: 0.8256 - val_loss: 0.4789 - val_accuracy: 0.8034\n",
      "Epoch 240/250\n",
      "23/23 [==============================] - 0s 3ms/step - loss: 0.3947 - accuracy: 0.8256 - val_loss: 0.4795 - val_accuracy: 0.8034\n",
      "Epoch 241/250\n",
      "23/23 [==============================] - 0s 3ms/step - loss: 0.3948 - accuracy: 0.8270 - val_loss: 0.4805 - val_accuracy: 0.8034\n",
      "Epoch 242/250\n",
      "23/23 [==============================] - 0s 3ms/step - loss: 0.3948 - accuracy: 0.8242 - val_loss: 0.4798 - val_accuracy: 0.8090\n",
      "Epoch 243/250\n",
      "23/23 [==============================] - 0s 3ms/step - loss: 0.3943 - accuracy: 0.8256 - val_loss: 0.4801 - val_accuracy: 0.8090\n",
      "Epoch 244/250\n",
      "23/23 [==============================] - 0s 3ms/step - loss: 0.3942 - accuracy: 0.8256 - val_loss: 0.4800 - val_accuracy: 0.8146\n",
      "Epoch 245/250\n",
      "23/23 [==============================] - 0s 3ms/step - loss: 0.3943 - accuracy: 0.8270 - val_loss: 0.4816 - val_accuracy: 0.8034\n",
      "Epoch 246/250\n",
      "23/23 [==============================] - 0s 4ms/step - loss: 0.3939 - accuracy: 0.8270 - val_loss: 0.4813 - val_accuracy: 0.8034\n",
      "Epoch 247/250\n",
      "23/23 [==============================] - 0s 3ms/step - loss: 0.3938 - accuracy: 0.8270 - val_loss: 0.4817 - val_accuracy: 0.8034\n",
      "Epoch 248/250\n",
      "23/23 [==============================] - 0s 3ms/step - loss: 0.3936 - accuracy: 0.8284 - val_loss: 0.4822 - val_accuracy: 0.8034\n",
      "Epoch 249/250\n",
      "23/23 [==============================] - 0s 3ms/step - loss: 0.3934 - accuracy: 0.8270 - val_loss: 0.4824 - val_accuracy: 0.8034\n",
      "Epoch 250/250\n",
      "23/23 [==============================] - 0s 3ms/step - loss: 0.3932 - accuracy: 0.8270 - val_loss: 0.4823 - val_accuracy: 0.8034\n"
     ]
    }
   ],
   "source": [
    "\n",
    "tf.random.set_seed(42)\n",
    "\n",
    "model_1 = tf.keras.Sequential([\n",
    "           tf.keras.layers.Dense(9, activation='relu'),\n",
    "           tf.keras.layers.Dense(15, activation='relu'),\n",
    "           tf.keras.layers.Dense(50, activation='relu'),\n",
    "           tf.keras.layers.Dense(2, activation='softmax')\n",
    "])\n",
    "\n",
    "model_1.compile(loss=tf.keras.losses.BinaryCrossentropy(),\n",
    "                 optimizer=tf.keras.optimizers.Adam(learning_rate=0.0001),\n",
    "                 metrics=['accuracy'])\n",
    "\n",
    "history = model_1.fit(X_train, \n",
    "                      tf.one_hot(y_train, depth=2), \n",
    "                      epochs=250,\n",
    "                      verbose = 1,\n",
    "                      validation_data=(X_valid, tf.one_hot(y_valid, depth=2)))"
   ]
  },
  {
   "cell_type": "code",
   "execution_count": 19,
   "metadata": {
    "execution": {
     "iopub.execute_input": "2022-01-24T01:25:07.086698Z",
     "iopub.status.busy": "2022-01-24T01:25:07.086336Z",
     "iopub.status.idle": "2022-01-24T01:25:07.094902Z",
     "shell.execute_reply": "2022-01-24T01:25:07.094313Z",
     "shell.execute_reply.started": "2022-01-24T01:25:07.08667Z"
    }
   },
   "outputs": [
    {
     "name": "stdout",
     "output_type": "stream",
     "text": [
      "Model: \"sequential\"\n",
      "_________________________________________________________________\n",
      " Layer (type)                Output Shape              Param #   \n",
      "=================================================================\n",
      " dense (Dense)               (None, 9)                 81        \n",
      "                                                                 \n",
      " dense_1 (Dense)             (None, 15)                150       \n",
      "                                                                 \n",
      " dense_2 (Dense)             (None, 50)                800       \n",
      "                                                                 \n",
      " dense_3 (Dense)             (None, 2)                 102       \n",
      "                                                                 \n",
      "=================================================================\n",
      "Total params: 1,133\n",
      "Trainable params: 1,133\n",
      "Non-trainable params: 0\n",
      "_________________________________________________________________\n"
     ]
    }
   ],
   "source": [
    "model_1.summary()"
   ]
  },
  {
   "cell_type": "code",
   "execution_count": 20,
   "metadata": {
    "execution": {
     "iopub.execute_input": "2022-01-24T01:25:07.096539Z",
     "iopub.status.busy": "2022-01-24T01:25:07.096155Z",
     "iopub.status.idle": "2022-01-24T01:25:07.215934Z",
     "shell.execute_reply": "2022-01-24T01:25:07.214958Z",
     "shell.execute_reply.started": "2022-01-24T01:25:07.096493Z"
    }
   },
   "outputs": [
    {
     "name": "stdout",
     "output_type": "stream",
     "text": [
      "You must install pydot (`pip install pydot`) and install graphviz (see instructions at https://graphviz.gitlab.io/download/) for plot_model to work.\n"
     ]
    }
   ],
   "source": [
    "from tensorflow.keras.utils import plot_model\n",
    "\n",
    "plot_model(model_1, show_shapes=True)"
   ]
  },
  {
   "cell_type": "markdown",
   "metadata": {},
   "source": [
    "Test"
   ]
  },
  {
   "cell_type": "code",
   "execution_count": 23,
   "metadata": {
    "execution": {
     "iopub.execute_input": "2022-01-24T01:25:07.218225Z",
     "iopub.status.busy": "2022-01-24T01:25:07.217865Z",
     "iopub.status.idle": "2022-01-24T01:25:07.231847Z",
     "shell.execute_reply": "2022-01-24T01:25:07.231006Z",
     "shell.execute_reply.started": "2022-01-24T01:25:07.218179Z"
    }
   },
   "outputs": [],
   "source": [
    "test_dataset = pd.read_csv('test.csv')"
   ]
  },
  {
   "cell_type": "code",
   "execution_count": 24,
   "metadata": {
    "execution": {
     "iopub.execute_input": "2022-01-24T01:25:07.233543Z",
     "iopub.status.busy": "2022-01-24T01:25:07.233133Z",
     "iopub.status.idle": "2022-01-24T01:25:07.238703Z",
     "shell.execute_reply": "2022-01-24T01:25:07.238204Z",
     "shell.execute_reply.started": "2022-01-24T01:25:07.233514Z"
    }
   },
   "outputs": [],
   "source": [
    "test_passengerIds = test_dataset['PassengerId'].values\n",
    "test_dataset=test_dataset.drop(['PassengerId', 'Name','Ticket','Cabin', 'Parch'],axis=1)"
   ]
  },
  {
   "cell_type": "code",
   "execution_count": 25,
   "metadata": {
    "execution": {
     "iopub.execute_input": "2022-01-24T01:25:07.240213Z",
     "iopub.status.busy": "2022-01-24T01:25:07.239797Z",
     "iopub.status.idle": "2022-01-24T01:25:07.25607Z",
     "shell.execute_reply": "2022-01-24T01:25:07.255402Z",
     "shell.execute_reply.started": "2022-01-24T01:25:07.240182Z"
    }
   },
   "outputs": [
    {
     "data": {
      "text/html": [
       "<div>\n",
       "<style scoped>\n",
       "    .dataframe tbody tr th:only-of-type {\n",
       "        vertical-align: middle;\n",
       "    }\n",
       "\n",
       "    .dataframe tbody tr th {\n",
       "        vertical-align: top;\n",
       "    }\n",
       "\n",
       "    .dataframe thead th {\n",
       "        text-align: right;\n",
       "    }\n",
       "</style>\n",
       "<table border=\"1\" class=\"dataframe\">\n",
       "  <thead>\n",
       "    <tr style=\"text-align: right;\">\n",
       "      <th></th>\n",
       "      <th>Pclass</th>\n",
       "      <th>Sex</th>\n",
       "      <th>Age</th>\n",
       "      <th>SibSp</th>\n",
       "      <th>Fare</th>\n",
       "      <th>Embarked</th>\n",
       "    </tr>\n",
       "  </thead>\n",
       "  <tbody>\n",
       "    <tr>\n",
       "      <th>0</th>\n",
       "      <td>3</td>\n",
       "      <td>male</td>\n",
       "      <td>34.5</td>\n",
       "      <td>0</td>\n",
       "      <td>7.8292</td>\n",
       "      <td>Q</td>\n",
       "    </tr>\n",
       "    <tr>\n",
       "      <th>1</th>\n",
       "      <td>3</td>\n",
       "      <td>female</td>\n",
       "      <td>47.0</td>\n",
       "      <td>1</td>\n",
       "      <td>7.0000</td>\n",
       "      <td>S</td>\n",
       "    </tr>\n",
       "    <tr>\n",
       "      <th>2</th>\n",
       "      <td>2</td>\n",
       "      <td>male</td>\n",
       "      <td>62.0</td>\n",
       "      <td>0</td>\n",
       "      <td>9.6875</td>\n",
       "      <td>Q</td>\n",
       "    </tr>\n",
       "    <tr>\n",
       "      <th>3</th>\n",
       "      <td>3</td>\n",
       "      <td>male</td>\n",
       "      <td>27.0</td>\n",
       "      <td>0</td>\n",
       "      <td>8.6625</td>\n",
       "      <td>S</td>\n",
       "    </tr>\n",
       "    <tr>\n",
       "      <th>4</th>\n",
       "      <td>3</td>\n",
       "      <td>female</td>\n",
       "      <td>22.0</td>\n",
       "      <td>1</td>\n",
       "      <td>12.2875</td>\n",
       "      <td>S</td>\n",
       "    </tr>\n",
       "  </tbody>\n",
       "</table>\n",
       "</div>"
      ],
      "text/plain": [
       "   Pclass     Sex   Age  SibSp     Fare Embarked\n",
       "0       3    male  34.5      0   7.8292        Q\n",
       "1       3  female  47.0      1   7.0000        S\n",
       "2       2    male  62.0      0   9.6875        Q\n",
       "3       3    male  27.0      0   8.6625        S\n",
       "4       3  female  22.0      1  12.2875        S"
      ]
     },
     "execution_count": 25,
     "metadata": {},
     "output_type": "execute_result"
    }
   ],
   "source": [
    "test_dataset.head()"
   ]
  },
  {
   "cell_type": "code",
   "execution_count": 26,
   "metadata": {
    "execution": {
     "iopub.execute_input": "2022-01-24T01:25:07.258116Z",
     "iopub.status.busy": "2022-01-24T01:25:07.257701Z",
     "iopub.status.idle": "2022-01-24T01:25:07.266631Z",
     "shell.execute_reply": "2022-01-24T01:25:07.266055Z",
     "shell.execute_reply.started": "2022-01-24T01:25:07.258077Z"
    }
   },
   "outputs": [
    {
     "data": {
      "text/plain": [
       "Pclass       0\n",
       "Sex          0\n",
       "Age         86\n",
       "SibSp        0\n",
       "Fare         1\n",
       "Embarked     0\n",
       "dtype: int64"
      ]
     },
     "execution_count": 26,
     "metadata": {},
     "output_type": "execute_result"
    }
   ],
   "source": [
    "test_dataset.isna().sum()"
   ]
  },
  {
   "cell_type": "code",
   "execution_count": 27,
   "metadata": {
    "execution": {
     "iopub.execute_input": "2022-01-24T01:25:07.268762Z",
     "iopub.status.busy": "2022-01-24T01:25:07.268218Z",
     "iopub.status.idle": "2022-01-24T01:25:07.281777Z",
     "shell.execute_reply": "2022-01-24T01:25:07.280864Z",
     "shell.execute_reply.started": "2022-01-24T01:25:07.268722Z"
    }
   },
   "outputs": [
    {
     "name": "stdout",
     "output_type": "stream",
     "text": [
      "<class 'pandas.core.frame.DataFrame'>\n",
      "RangeIndex: 418 entries, 0 to 417\n",
      "Data columns (total 6 columns):\n",
      " #   Column    Non-Null Count  Dtype  \n",
      "---  ------    --------------  -----  \n",
      " 0   Pclass    418 non-null    int64  \n",
      " 1   Sex       418 non-null    object \n",
      " 2   Age       332 non-null    float64\n",
      " 3   SibSp     418 non-null    int64  \n",
      " 4   Fare      417 non-null    float64\n",
      " 5   Embarked  418 non-null    object \n",
      "dtypes: float64(2), int64(2), object(2)\n",
      "memory usage: 19.7+ KB\n"
     ]
    }
   ],
   "source": [
    "test_dataset.info()"
   ]
  },
  {
   "cell_type": "code",
   "execution_count": 28,
   "metadata": {
    "execution": {
     "iopub.execute_input": "2022-01-24T01:25:07.286299Z",
     "iopub.status.busy": "2022-01-24T01:25:07.286047Z",
     "iopub.status.idle": "2022-01-24T01:25:07.296607Z",
     "shell.execute_reply": "2022-01-24T01:25:07.295886Z",
     "shell.execute_reply.started": "2022-01-24T01:25:07.286272Z"
    }
   },
   "outputs": [
    {
     "data": {
      "text/plain": [
       "Pclass      0\n",
       "Sex         0\n",
       "Age         0\n",
       "SibSp       0\n",
       "Fare        0\n",
       "Embarked    0\n",
       "dtype: int64"
      ]
     },
     "execution_count": 28,
     "metadata": {},
     "output_type": "execute_result"
    }
   ],
   "source": [
    "test_dataset['Age'].fillna(test_dataset['Age'].mean(),inplace = True)\n",
    "test_dataset['Fare'].fillna(test_dataset['Fare'].mean(),inplace = True)\n",
    "test_dataset.isna().sum()"
   ]
  },
  {
   "cell_type": "code",
   "execution_count": 29,
   "metadata": {
    "execution": {
     "iopub.execute_input": "2022-01-24T01:25:07.298574Z",
     "iopub.status.busy": "2022-01-24T01:25:07.297988Z",
     "iopub.status.idle": "2022-01-24T01:25:07.314763Z",
     "shell.execute_reply": "2022-01-24T01:25:07.314036Z",
     "shell.execute_reply.started": "2022-01-24T01:25:07.298406Z"
    }
   },
   "outputs": [
    {
     "data": {
      "text/html": [
       "<div>\n",
       "<style scoped>\n",
       "    .dataframe tbody tr th:only-of-type {\n",
       "        vertical-align: middle;\n",
       "    }\n",
       "\n",
       "    .dataframe tbody tr th {\n",
       "        vertical-align: top;\n",
       "    }\n",
       "\n",
       "    .dataframe thead th {\n",
       "        text-align: right;\n",
       "    }\n",
       "</style>\n",
       "<table border=\"1\" class=\"dataframe\">\n",
       "  <thead>\n",
       "    <tr style=\"text-align: right;\">\n",
       "      <th></th>\n",
       "      <th>Pclass</th>\n",
       "      <th>Age</th>\n",
       "      <th>SibSp</th>\n",
       "      <th>Fare</th>\n",
       "      <th>Embarked</th>\n",
       "      <th>Sex</th>\n",
       "    </tr>\n",
       "  </thead>\n",
       "  <tbody>\n",
       "    <tr>\n",
       "      <th>0</th>\n",
       "      <td>3</td>\n",
       "      <td>34.5</td>\n",
       "      <td>0</td>\n",
       "      <td>7.8292</td>\n",
       "      <td>Q</td>\n",
       "      <td>1</td>\n",
       "    </tr>\n",
       "    <tr>\n",
       "      <th>1</th>\n",
       "      <td>3</td>\n",
       "      <td>47.0</td>\n",
       "      <td>1</td>\n",
       "      <td>7.0000</td>\n",
       "      <td>S</td>\n",
       "      <td>0</td>\n",
       "    </tr>\n",
       "    <tr>\n",
       "      <th>2</th>\n",
       "      <td>2</td>\n",
       "      <td>62.0</td>\n",
       "      <td>0</td>\n",
       "      <td>9.6875</td>\n",
       "      <td>Q</td>\n",
       "      <td>1</td>\n",
       "    </tr>\n",
       "    <tr>\n",
       "      <th>3</th>\n",
       "      <td>3</td>\n",
       "      <td>27.0</td>\n",
       "      <td>0</td>\n",
       "      <td>8.6625</td>\n",
       "      <td>S</td>\n",
       "      <td>1</td>\n",
       "    </tr>\n",
       "    <tr>\n",
       "      <th>4</th>\n",
       "      <td>3</td>\n",
       "      <td>22.0</td>\n",
       "      <td>1</td>\n",
       "      <td>12.2875</td>\n",
       "      <td>S</td>\n",
       "      <td>0</td>\n",
       "    </tr>\n",
       "  </tbody>\n",
       "</table>\n",
       "</div>"
      ],
      "text/plain": [
       "   Pclass   Age  SibSp     Fare Embarked  Sex\n",
       "0       3  34.5      0   7.8292        Q    1\n",
       "1       3  47.0      1   7.0000        S    0\n",
       "2       2  62.0      0   9.6875        Q    1\n",
       "3       3  27.0      0   8.6625        S    1\n",
       "4       3  22.0      1  12.2875        S    0"
      ]
     },
     "execution_count": 29,
     "metadata": {},
     "output_type": "execute_result"
    }
   ],
   "source": [
    "sex_col = test_dataset['Sex'] == 'male'\n",
    "sex_col = sex_col.astype('int32')\n",
    "\n",
    "\n",
    "test_dataset = test_dataset.drop(['Sex'],axis=1)\n",
    "\n",
    "test_dataset['Sex'] = sex_col\n",
    "\n",
    "test_dataset.head()"
   ]
  },
  {
   "cell_type": "code",
   "execution_count": 30,
   "metadata": {
    "execution": {
     "iopub.execute_input": "2022-01-24T01:25:07.317494Z",
     "iopub.status.busy": "2022-01-24T01:25:07.31572Z",
     "iopub.status.idle": "2022-01-24T01:25:07.332197Z",
     "shell.execute_reply": "2022-01-24T01:25:07.331621Z",
     "shell.execute_reply.started": "2022-01-24T01:25:07.317458Z"
    }
   },
   "outputs": [
    {
     "data": {
      "text/html": [
       "<div>\n",
       "<style scoped>\n",
       "    .dataframe tbody tr th:only-of-type {\n",
       "        vertical-align: middle;\n",
       "    }\n",
       "\n",
       "    .dataframe tbody tr th {\n",
       "        vertical-align: top;\n",
       "    }\n",
       "\n",
       "    .dataframe thead th {\n",
       "        text-align: right;\n",
       "    }\n",
       "</style>\n",
       "<table border=\"1\" class=\"dataframe\">\n",
       "  <thead>\n",
       "    <tr style=\"text-align: right;\">\n",
       "      <th></th>\n",
       "      <th>Pclass</th>\n",
       "      <th>Age</th>\n",
       "      <th>SibSp</th>\n",
       "      <th>Fare</th>\n",
       "      <th>Sex</th>\n",
       "      <th>Embarked_C</th>\n",
       "      <th>Embarked_Q</th>\n",
       "      <th>Embarked_S</th>\n",
       "    </tr>\n",
       "  </thead>\n",
       "  <tbody>\n",
       "    <tr>\n",
       "      <th>0</th>\n",
       "      <td>3</td>\n",
       "      <td>34.5</td>\n",
       "      <td>0</td>\n",
       "      <td>7.8292</td>\n",
       "      <td>1</td>\n",
       "      <td>0</td>\n",
       "      <td>1</td>\n",
       "      <td>0</td>\n",
       "    </tr>\n",
       "    <tr>\n",
       "      <th>1</th>\n",
       "      <td>3</td>\n",
       "      <td>47.0</td>\n",
       "      <td>1</td>\n",
       "      <td>7.0000</td>\n",
       "      <td>0</td>\n",
       "      <td>0</td>\n",
       "      <td>0</td>\n",
       "      <td>1</td>\n",
       "    </tr>\n",
       "    <tr>\n",
       "      <th>2</th>\n",
       "      <td>2</td>\n",
       "      <td>62.0</td>\n",
       "      <td>0</td>\n",
       "      <td>9.6875</td>\n",
       "      <td>1</td>\n",
       "      <td>0</td>\n",
       "      <td>1</td>\n",
       "      <td>0</td>\n",
       "    </tr>\n",
       "    <tr>\n",
       "      <th>3</th>\n",
       "      <td>3</td>\n",
       "      <td>27.0</td>\n",
       "      <td>0</td>\n",
       "      <td>8.6625</td>\n",
       "      <td>1</td>\n",
       "      <td>0</td>\n",
       "      <td>0</td>\n",
       "      <td>1</td>\n",
       "    </tr>\n",
       "    <tr>\n",
       "      <th>4</th>\n",
       "      <td>3</td>\n",
       "      <td>22.0</td>\n",
       "      <td>1</td>\n",
       "      <td>12.2875</td>\n",
       "      <td>0</td>\n",
       "      <td>0</td>\n",
       "      <td>0</td>\n",
       "      <td>1</td>\n",
       "    </tr>\n",
       "  </tbody>\n",
       "</table>\n",
       "</div>"
      ],
      "text/plain": [
       "   Pclass   Age  SibSp     Fare  Sex  Embarked_C  Embarked_Q  Embarked_S\n",
       "0       3  34.5      0   7.8292    1           0           1           0\n",
       "1       3  47.0      1   7.0000    0           0           0           1\n",
       "2       2  62.0      0   9.6875    1           0           1           0\n",
       "3       3  27.0      0   8.6625    1           0           0           1\n",
       "4       3  22.0      1  12.2875    0           0           0           1"
      ]
     },
     "execution_count": 30,
     "metadata": {},
     "output_type": "execute_result"
    }
   ],
   "source": [
    "test_dataset = pd.get_dummies(test_dataset, columns = ['Embarked'])\n",
    "test_dataset.head()"
   ]
  },
  {
   "cell_type": "code",
   "execution_count": 31,
   "metadata": {
    "execution": {
     "iopub.execute_input": "2022-01-24T01:25:07.333382Z",
     "iopub.status.busy": "2022-01-24T01:25:07.333159Z",
     "iopub.status.idle": "2022-01-24T01:25:07.346933Z",
     "shell.execute_reply": "2022-01-24T01:25:07.346376Z",
     "shell.execute_reply.started": "2022-01-24T01:25:07.333355Z"
    }
   },
   "outputs": [],
   "source": [
    "from sklearn.preprocessing import StandardScaler\n",
    "sc = StandardScaler()\n",
    "test_dataset = sc.fit_transform(test_dataset)"
   ]
  },
  {
   "cell_type": "code",
   "execution_count": 32,
   "metadata": {
    "execution": {
     "iopub.execute_input": "2022-01-24T01:25:07.348465Z",
     "iopub.status.busy": "2022-01-24T01:25:07.348103Z",
     "iopub.status.idle": "2022-01-24T01:25:07.490518Z",
     "shell.execute_reply": "2022-01-24T01:25:07.48981Z",
     "shell.execute_reply.started": "2022-01-24T01:25:07.348433Z"
    }
   },
   "outputs": [
    {
     "name": "stdout",
     "output_type": "stream",
     "text": [
      "14/14 [==============================] - 0s 927us/step\n"
     ]
    },
    {
     "data": {
      "text/plain": [
       "(418,)"
      ]
     },
     "execution_count": 32,
     "metadata": {},
     "output_type": "execute_result"
    }
   ],
   "source": [
    "y_pred = model_1.predict(test_dataset).argmax(axis = 1)\n",
    "y_pred.shape"
   ]
  },
  {
   "cell_type": "code",
   "execution_count": 33,
   "metadata": {
    "execution": {
     "iopub.execute_input": "2022-01-24T01:25:07.492422Z",
     "iopub.status.busy": "2022-01-24T01:25:07.491695Z",
     "iopub.status.idle": "2022-01-24T01:25:07.497864Z",
     "shell.execute_reply": "2022-01-24T01:25:07.496937Z",
     "shell.execute_reply.started": "2022-01-24T01:25:07.492373Z"
    }
   },
   "outputs": [
    {
     "data": {
      "text/plain": [
       "(418,)"
      ]
     },
     "execution_count": 33,
     "metadata": {},
     "output_type": "execute_result"
    }
   ],
   "source": [
    "test_passengerIds.shape"
   ]
  },
  {
   "cell_type": "code",
   "execution_count": 66,
   "metadata": {
    "execution": {
     "iopub.execute_input": "2022-01-24T01:25:07.499643Z",
     "iopub.status.busy": "2022-01-24T01:25:07.499333Z",
     "iopub.status.idle": "2022-01-24T01:25:07.511202Z",
     "shell.execute_reply": "2022-01-24T01:25:07.510433Z",
     "shell.execute_reply.started": "2022-01-24T01:25:07.499604Z"
    }
   },
   "outputs": [],
   "source": [
    "output = pd.DataFrame({'PassengerId':test_passengerIds, 'Survived': y_pred})\n",
    "output.to_csv('submission.csv', index=False)"
   ]
  },
  {
   "cell_type": "code",
   "execution_count": 67,
   "metadata": {},
   "outputs": [
    {
     "data": {
      "text/html": [
       "<div>\n",
       "<style scoped>\n",
       "    .dataframe tbody tr th:only-of-type {\n",
       "        vertical-align: middle;\n",
       "    }\n",
       "\n",
       "    .dataframe tbody tr th {\n",
       "        vertical-align: top;\n",
       "    }\n",
       "\n",
       "    .dataframe thead th {\n",
       "        text-align: right;\n",
       "    }\n",
       "</style>\n",
       "<table border=\"1\" class=\"dataframe\">\n",
       "  <thead>\n",
       "    <tr style=\"text-align: right;\">\n",
       "      <th></th>\n",
       "      <th>Survived</th>\n",
       "      <th>Pclass</th>\n",
       "      <th>Age</th>\n",
       "      <th>SibSp</th>\n",
       "      <th>Fare</th>\n",
       "      <th>Sex</th>\n",
       "      <th>Embarked_C</th>\n",
       "      <th>Embarked_Q</th>\n",
       "      <th>Embarked_S</th>\n",
       "    </tr>\n",
       "  </thead>\n",
       "  <tbody>\n",
       "    <tr>\n",
       "      <th>0</th>\n",
       "      <td>0</td>\n",
       "      <td>3</td>\n",
       "      <td>22.0</td>\n",
       "      <td>1</td>\n",
       "      <td>7.2500</td>\n",
       "      <td>1</td>\n",
       "      <td>0</td>\n",
       "      <td>0</td>\n",
       "      <td>1</td>\n",
       "    </tr>\n",
       "    <tr>\n",
       "      <th>1</th>\n",
       "      <td>1</td>\n",
       "      <td>1</td>\n",
       "      <td>38.0</td>\n",
       "      <td>1</td>\n",
       "      <td>71.2833</td>\n",
       "      <td>0</td>\n",
       "      <td>1</td>\n",
       "      <td>0</td>\n",
       "      <td>0</td>\n",
       "    </tr>\n",
       "    <tr>\n",
       "      <th>2</th>\n",
       "      <td>1</td>\n",
       "      <td>3</td>\n",
       "      <td>26.0</td>\n",
       "      <td>0</td>\n",
       "      <td>7.9250</td>\n",
       "      <td>0</td>\n",
       "      <td>0</td>\n",
       "      <td>0</td>\n",
       "      <td>1</td>\n",
       "    </tr>\n",
       "    <tr>\n",
       "      <th>3</th>\n",
       "      <td>1</td>\n",
       "      <td>1</td>\n",
       "      <td>35.0</td>\n",
       "      <td>1</td>\n",
       "      <td>53.1000</td>\n",
       "      <td>0</td>\n",
       "      <td>0</td>\n",
       "      <td>0</td>\n",
       "      <td>1</td>\n",
       "    </tr>\n",
       "    <tr>\n",
       "      <th>4</th>\n",
       "      <td>0</td>\n",
       "      <td>3</td>\n",
       "      <td>35.0</td>\n",
       "      <td>0</td>\n",
       "      <td>8.0500</td>\n",
       "      <td>1</td>\n",
       "      <td>0</td>\n",
       "      <td>0</td>\n",
       "      <td>1</td>\n",
       "    </tr>\n",
       "  </tbody>\n",
       "</table>\n",
       "</div>"
      ],
      "text/plain": [
       "   Survived  Pclass   Age  SibSp     Fare  Sex  Embarked_C  Embarked_Q  \\\n",
       "0         0       3  22.0      1   7.2500    1           0           0   \n",
       "1         1       1  38.0      1  71.2833    0           1           0   \n",
       "2         1       3  26.0      0   7.9250    0           0           0   \n",
       "3         1       1  35.0      1  53.1000    0           0           0   \n",
       "4         0       3  35.0      0   8.0500    1           0           0   \n",
       "\n",
       "   Embarked_S  \n",
       "0           1  \n",
       "1           0  \n",
       "2           1  \n",
       "3           1  \n",
       "4           1  "
      ]
     },
     "execution_count": 67,
     "metadata": {},
     "output_type": "execute_result"
    }
   ],
   "source": [
    "data.head()"
   ]
  },
  {
   "cell_type": "code",
   "execution_count": 68,
   "metadata": {},
   "outputs": [],
   "source": [
    "data2 = data.drop(['Survived'],axis = 1)"
   ]
  },
  {
   "cell_type": "code",
   "execution_count": 70,
   "metadata": {},
   "outputs": [
    {
     "data": {
      "text/html": [
       "<div>\n",
       "<style scoped>\n",
       "    .dataframe tbody tr th:only-of-type {\n",
       "        vertical-align: middle;\n",
       "    }\n",
       "\n",
       "    .dataframe tbody tr th {\n",
       "        vertical-align: top;\n",
       "    }\n",
       "\n",
       "    .dataframe thead th {\n",
       "        text-align: right;\n",
       "    }\n",
       "</style>\n",
       "<table border=\"1\" class=\"dataframe\">\n",
       "  <thead>\n",
       "    <tr style=\"text-align: right;\">\n",
       "      <th></th>\n",
       "      <th>Pclass</th>\n",
       "      <th>Age</th>\n",
       "      <th>SibSp</th>\n",
       "      <th>Fare</th>\n",
       "      <th>Sex</th>\n",
       "      <th>Embarked_C</th>\n",
       "      <th>Embarked_Q</th>\n",
       "      <th>Embarked_S</th>\n",
       "    </tr>\n",
       "  </thead>\n",
       "  <tbody>\n",
       "    <tr>\n",
       "      <th>0</th>\n",
       "      <td>3</td>\n",
       "      <td>22.0</td>\n",
       "      <td>1</td>\n",
       "      <td>7.2500</td>\n",
       "      <td>1</td>\n",
       "      <td>0</td>\n",
       "      <td>0</td>\n",
       "      <td>1</td>\n",
       "    </tr>\n",
       "    <tr>\n",
       "      <th>1</th>\n",
       "      <td>1</td>\n",
       "      <td>38.0</td>\n",
       "      <td>1</td>\n",
       "      <td>71.2833</td>\n",
       "      <td>0</td>\n",
       "      <td>1</td>\n",
       "      <td>0</td>\n",
       "      <td>0</td>\n",
       "    </tr>\n",
       "    <tr>\n",
       "      <th>2</th>\n",
       "      <td>3</td>\n",
       "      <td>26.0</td>\n",
       "      <td>0</td>\n",
       "      <td>7.9250</td>\n",
       "      <td>0</td>\n",
       "      <td>0</td>\n",
       "      <td>0</td>\n",
       "      <td>1</td>\n",
       "    </tr>\n",
       "    <tr>\n",
       "      <th>3</th>\n",
       "      <td>1</td>\n",
       "      <td>35.0</td>\n",
       "      <td>1</td>\n",
       "      <td>53.1000</td>\n",
       "      <td>0</td>\n",
       "      <td>0</td>\n",
       "      <td>0</td>\n",
       "      <td>1</td>\n",
       "    </tr>\n",
       "    <tr>\n",
       "      <th>4</th>\n",
       "      <td>3</td>\n",
       "      <td>35.0</td>\n",
       "      <td>0</td>\n",
       "      <td>8.0500</td>\n",
       "      <td>1</td>\n",
       "      <td>0</td>\n",
       "      <td>0</td>\n",
       "      <td>1</td>\n",
       "    </tr>\n",
       "  </tbody>\n",
       "</table>\n",
       "</div>"
      ],
      "text/plain": [
       "   Pclass   Age  SibSp     Fare  Sex  Embarked_C  Embarked_Q  Embarked_S\n",
       "0       3  22.0      1   7.2500    1           0           0           1\n",
       "1       1  38.0      1  71.2833    0           1           0           0\n",
       "2       3  26.0      0   7.9250    0           0           0           1\n",
       "3       1  35.0      1  53.1000    0           0           0           1\n",
       "4       3  35.0      0   8.0500    1           0           0           1"
      ]
     },
     "execution_count": 70,
     "metadata": {},
     "output_type": "execute_result"
    }
   ],
   "source": [
    "data2.head()"
   ]
  },
  {
   "cell_type": "code",
   "execution_count": 71,
   "metadata": {},
   "outputs": [
    {
     "name": "stdout",
     "output_type": "stream",
     "text": [
      "28/28 [==============================] - 0s 1ms/step\n"
     ]
    }
   ],
   "source": [
    "predst = model_1.predict(data2.values).argmax(axis = 1)"
   ]
  },
  {
   "cell_type": "code",
   "execution_count": 73,
   "metadata": {},
   "outputs": [
    {
     "data": {
      "text/plain": [
       "(889,)"
      ]
     },
     "execution_count": 73,
     "metadata": {},
     "output_type": "execute_result"
    }
   ],
   "source": [
    "predst.shape"
   ]
  },
  {
   "cell_type": "code",
   "execution_count": 74,
   "metadata": {},
   "outputs": [],
   "source": [
    "z = data['Survived']"
   ]
  },
  {
   "cell_type": "code",
   "execution_count": 76,
   "metadata": {},
   "outputs": [
    {
     "name": "stdout",
     "output_type": "stream",
     "text": [
      "              precision    recall  f1-score   support\n",
      "\n",
      "           0       0.72      0.80      0.76       549\n",
      "           1       0.61      0.50      0.55       340\n",
      "\n",
      "    accuracy                           0.69       889\n",
      "   macro avg       0.66      0.65      0.65       889\n",
      "weighted avg       0.68      0.69      0.68       889\n",
      "\n"
     ]
    }
   ],
   "source": [
    "print(classification_report(z,predst))"
   ]
  }
 ],
 "metadata": {
  "kernelspec": {
   "display_name": "Python 3 (ipykernel)",
   "language": "python",
   "name": "python3"
  },
  "language_info": {
   "codemirror_mode": {
    "name": "ipython",
    "version": 3
   },
   "file_extension": ".py",
   "mimetype": "text/x-python",
   "name": "python",
   "nbconvert_exporter": "python",
   "pygments_lexer": "ipython3",
   "version": "3.9.13"
  }
 },
 "nbformat": 4,
 "nbformat_minor": 4
}
